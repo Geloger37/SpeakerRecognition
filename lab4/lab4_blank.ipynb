{
 "cells": [
  {
   "cell_type": "markdown",
   "id": "3f4cabff",
   "metadata": {},
   "source": [
    "**Лабораторный практикум по курсу «Распознавание диктора», Университет ИТМО, 2021**\t\t"
   ]
  },
  {
   "cell_type": "markdown",
   "id": "ee4ff96e",
   "metadata": {},
   "source": [
    "**Лабораторная работа №4. Критерии принятия решения и метрики качества**\n",
    "\n",
    "**Цель работы:** изучение основных критериев принятия решения и метрик качества, рассматриваемых при решении задачи голосовой биометрии.\n",
    "\n",
    "**Краткое описание:** в рамках настоящей лабораторной работы предлагается изучить и реализовать классические критерии принятия решения (критерий максимального правдоподобия, критерий максимума апостериорной вероятности, критерий Неймана-Пирсона, критерий Байеса и минимаксный критерий), позволяющие автоматически подобрать порог принятия решения для биометрической системы, а также оценить качество полученных биометрических решений по целевым метрикам.\n",
    "\n",
    "**Данные:** в качестве данных для выполнения лабораторной работы предлагается использовать тестовую часть базы [VoxCeleb1](http://www.robots.ox.ac.uk/~vgg/data/voxceleb/vox1.html).\n",
    "\n",
    "**Содержание лабораторной работы**\n",
    "\n",
    "1. Подготовка тестовых данных и протокола для проведения тестирования системы верификации диктора.\t\t\t\t\t\t\t\n",
    "\n",
    "2. Вычисление дикторских моделей для эталонных и тестовых звукозаписей используемого протокола.\n",
    "\n",
    "3. Формирование оценок сравнения эталонных и тестовых дикторских моделей.\n",
    "\n",
    "4. Построение таргет- и импостор-гистограмм оценок сравнения моделей.\n",
    "\n",
    "5. Вычисление порогового значения, вероятности ошибки принятия решения, вероятностей ошибок первого и второго рода: критерий максимального правдоподобия, критерий максимума апостериорной вероятности (критерий минимума вероятности ошибки), критерий Неймана-Пирсона, критерий Байеса и минимаксный критерий.\n",
    "\n",
    "6. Вычисление значения равновероятной ошибки (EER, equal error rate).\t\t\t\t\t\t\t"
   ]
  },
  {
   "cell_type": "code",
   "execution_count": 1,
   "id": "6a241fed",
   "metadata": {},
   "outputs": [],
   "source": [
    "# IPython extension to reload modules before executing user code\n",
    "%load_ext autoreload\n",
    "%autoreload 2\n",
    "\n",
    "# Import of modules\n",
    "import os\n",
    "import sys\n",
    "\n",
    "sys.path.append(os.path.realpath('..'))\n",
    "\n",
    "from math import sqrt, pi\n",
    "\n",
    "import numpy as np\n",
    "from matplotlib.pyplot import hist, plot, show, grid, title, xlabel, ylabel, legend, axis, imshow\n",
    "import torch\n",
    "from torch.utils.data import DataLoader\n",
    "import itertools\n",
    "from common import download_dataset, extract_dataset, download_protocol\n",
    "from common import test_dataset_loader\n",
    "from common import get_eer\n",
    "from common import extract_features, compute_scores\n",
    "from LoadModel import load_model\n",
    "from ResNetSE34V2 import MainModel\n",
    "from exercises_blank import tar_imp_hists, llr, map_test, neyman_pearson_test, bayes_test, minmax_test"
   ]
  },
  {
   "cell_type": "code",
   "execution_count": 2,
   "metadata": {},
   "outputs": [],
   "source": [
    "# np.float = float"
   ]
  },
  {
   "cell_type": "code",
   "execution_count": 3,
   "metadata": {},
   "outputs": [],
   "source": [
    "# import os\n",
    "\n",
    "# os.environ['NUMBA_DISABLE_INTEL_SVML'] = '1'"
   ]
  },
  {
   "cell_type": "markdown",
   "id": "e733c6e1",
   "metadata": {},
   "source": [
    "**1. Подготовка тестовых данных и протокола для проведения тестирования системы верификации диктора**\n",
    "\n",
    "В ходе выполнения лабораторной работы необходимы *тестовые данные*, а также связанный с ними *протокол тестирования*. Данные представляют собой звукозаписи голосов людей мужского и женского пола, сохраненных в формат *wav*. Протокол тестирования организован в виде текстового файла, в каждой строчке которого содержится одна таргет- или импостор-попытка сравнения эталонной и тестовой звукозаписи (рассматривается задача *верификации диктора*, т.е. сравнение «один к одному»). Голоса эталона и теста из *таргет-попытки* (метка «1») соответствуют одному и тому же диктору, а голоса эталона и теста из *импостор-попытки* (метка «0») соответствуют разным дикторам.\n",
    "\n",
    "Необходимые данные можно скачать по ссылкам, представленным ниже:\n",
    "\n",
    "1. Выполнить загрузку и распаковку звуковых wav-файлов базы [VoxCeleb1 test set](https://thor.robots.ox.ac.uk/~vgg/data/voxceleb/vox1a/vox1_test_wav.zip).\n",
    "\n",
    "2. Выполнить загрузку протокола тестирования [VoxCeleb1-O cleaned](https://www.robots.ox.ac.uk/~vgg/data/voxceleb/meta/veri_test2.txt).\n",
    "\n",
    "![Рисунок 1](https://analyticsindiamag.com/wp-content/uploads/2020/12/image.png \"VoxCeleb. Крупномасштабная аудиовизуальная база данных человеческой речи.\")"
   ]
  },
  {
   "cell_type": "code",
   "execution_count": 4,
   "id": "e8b2ec99",
   "metadata": {},
   "outputs": [],
   "source": [
    "# # Download VoxCeleb1 (test set)\n",
    "# with open('../data/lists/datasets.txt', 'r') as f:\n",
    "#     lines = f.readlines()\n",
    "\n",
    "# download_dataset(lines, user='voxceleb1902', password='nx0bl2v2', save_path='../data')"
   ]
  },
  {
   "cell_type": "code",
   "execution_count": 5,
   "id": "3cb91462",
   "metadata": {},
   "outputs": [],
   "source": [
    "# # Extract VoxCeleb1 test set\n",
    "# extract_dataset(save_path='../data/voxceleb1_test', fname='../data/vox1_test_wav.zip')"
   ]
  },
  {
   "cell_type": "code",
   "execution_count": 6,
   "id": "ebd1a7f7",
   "metadata": {},
   "outputs": [],
   "source": [
    "# # Download VoxCeleb1-O cleaned protocol\n",
    "# with open('../data/lists/protocols.txt', 'r') as f:\n",
    "#     lines = f.readlines()\n",
    "    \n",
    "# download_protocol(lines, save_path='../data/voxceleb1_test')"
   ]
  },
  {
   "cell_type": "markdown",
   "id": "74a17756",
   "metadata": {},
   "source": [
    "**2. Вычисление дикторских моделей для эталонных и тестовых звукозаписей используемого протокола**\n",
    "\n",
    "Эталонные и тестовые звукозаписи таргет- и импостор-попыток из тестового протокола неудобно сравнивать «в лоб». Рассматриваемые в лабораторной работе данные содержат звукозаписи с *частотой дискретизации* 16кГц. Последнее означает, что в 1 секунде записи содержится 16,000 отсчётов *цифрового сигнала*, а в двух секундах – 32,000 и т.п. Сравнивать между собой длинные вектора не самая удачная идея, т.к. это затратно в смысле вычислительной сложности. Дополнительно необходимо отметить, что «сырой» звуковой сигнал содержит не только голос диктора, а помехи и шумы, акустику помещения и т.п. Поэтому на практике при решении задачи распознавания диктора для эталонной и тестовой звукозаписи вычисляется *дикторская модель*, содержащая внутри себя основные характеристик голоса конкретного диктора. Построить дикторскую модель можно различными способами, например, с использованием специально обученной искусственной нейронной сети, на вход которой передаётся набор акустических признаков, вычисленных для определенной звукозаписи, а на выходе формируется вектор малой размерности, например, длины 128, 256 и т.п. Этот вектор, иногда называемый *эмбеддингом*, и является дикторской моделью.\n",
    "\n",
    "Ниже представлена последовательность действий, которую необходимо выполнить при рассмотрении настоящего пункта:\n",
    "\n",
    "1. Описать и инициализировать модель для генерации дикторских эмбеддингов.\n",
    "\n",
    "2. Вгрузить в инициализированную модель обученные веса.\n",
    "\n",
    "3. Вычислить эмбеддинги для протокольных эталонных и тестовых звукозаписей."
   ]
  },
  {
   "cell_type": "code",
   "execution_count": 7,
   "id": "885652b5",
   "metadata": {},
   "outputs": [
    {
     "name": "stdout",
     "output_type": "stream",
     "text": [
      "Embedding size is 512, encoder ASP.\n"
     ]
    }
   ],
   "source": [
    "# Model initialization\n",
    "model = MainModel()"
   ]
  },
  {
   "cell_type": "code",
   "execution_count": 8,
   "id": "630b6a82",
   "metadata": {},
   "outputs": [
    {
     "name": "stdout",
     "output_type": "stream",
     "text": [
      "/home/ext-shirokov-m@ad.speechpro.com/shirokov/SpeakerRecognition\n",
      "/home/ext-shirokov-m@ad.speechpro.com/shirokov/SpeakerRecognition/lab4\n",
      "Embedding size is 512, encoder SP.\n",
      "Initialised AAM softmax margin 0.350 scale 32.000.\n"
     ]
    }
   ],
   "source": [
    "# # Load trained model\n",
    "# with open('../data/lists/models.txt', 'r') as f:\n",
    "#     lines = f.readlines()\n",
    "        \n",
    "# model = load_model(model, lines, save_path='../data/models')\n",
    "\n",
    "# model.eval()\n",
    "\n",
    "# model = model.cuda()\n",
    "\n",
    "%cd ../\n",
    "from lab3.exercises_blank import ResNet, MainModel\n",
    "from lab3.ResNetBlocks import BasicBlock\n",
    "from lab3.LossFunction import AAMSoftmaxLoss\n",
    "%cd lab4\n",
    "\n",
    "# Initialize model\n",
    "layers            = [3, 4, 6, 3]\n",
    "activation        = torch.nn.ReLU\n",
    "num_filters       = [32, 64, 128, 256]\n",
    "nOut              = 512\n",
    "encoder_type      = 'SP'\n",
    "n_mels            = 40\n",
    "log_input         = True\n",
    "margin            = 0.35\n",
    "scale             = 32.0\n",
    "model      = ResNet(BasicBlock, layers=layers, activation=activation, num_filters=num_filters, nOut=nOut, encoder_type=encoder_type, n_mels=n_mels, log_input=log_input)\n",
    "trainfunc  = AAMSoftmaxLoss(nOut=nOut, nClasses=1211, margin=margin, scale=scale)\n",
    "main_model = MainModel(model, trainfunc).cuda()\n",
    "\n",
    "checkpoint = torch.load(\"../data/lab3_models_aug/lab3_model_0039.pth\")\n",
    "main_model.load_state_dict(checkpoint['model'])\n",
    "model = main_model.__S__\n",
    "model.eval()\n",
    "model = model.cuda()"
   ]
  },
  {
   "cell_type": "code",
   "execution_count": 9,
   "id": "274117cc",
   "metadata": {},
   "outputs": [],
   "source": [
    "# Load test protocol\n",
    "with open('../data/voxceleb1_test/veri_test2.txt', 'r') as f:\n",
    "    lines = f.readlines()\n",
    "    \n",
    "# Get a list of unique file names\n",
    "files = list(itertools.chain(*[x.strip().split()[-2:] for x in lines]))\n",
    "setfiles = list(set(files))\n",
    "setfiles.sort()\n",
    "\n",
    "# Define test data loader\n",
    "test_dataset = test_dataset_loader(setfiles, test_path='../data/voxceleb1_test/wav/', eval_frames=200, num_eval=5)\n",
    "test_loader  = torch.utils.data.DataLoader(test_dataset, batch_size=1, shuffle=False, num_workers=3, drop_last=False, sampler=None)\n",
    "\n",
    "# Extract features for every image\n",
    "feats = extract_features(model, test_loader)"
   ]
  },
  {
   "cell_type": "markdown",
   "id": "36e4a2f7",
   "metadata": {},
   "source": [
    "**3. Формирование оценок сравнения эталонных и тестовых дикторских моделей**\n",
    "\n",
    "Для того, чтобы автоматически принять решении о принадлежности пары сравнения «эталон-тест» к таргет- или импостор-попытке, необходимо сформировать *оценку сравнения* между эталонной и тестовой дикторскими моделями. В простейшем случае подобные сравнения можно выполнить с использованием *евклидовой метрики*, *косинусной метрики* и т.п.\n",
    "\n",
    "В рамках настоящего пункта необходимо выполнить следующее:\n",
    "\n",
    "1. Выполнить формирование оценок сравнения эталонных и дикторских моделей с использованием любой подходящей метрики (евклидово расстояние, косинусное расстояние и т.п.).\n",
    "\n",
    "2. Сформировать списки оценок сравнения, таргет-/импостор-меток и имен эталон-тест в триальных сравнениях."
   ]
  },
  {
   "cell_type": "code",
   "execution_count": 10,
   "id": "40271963",
   "metadata": {},
   "outputs": [],
   "source": [
    "# Compute scores between enroll and test speaker models\n",
    "all_scores, all_labels, all_trials = compute_scores(feats, lines)"
   ]
  },
  {
   "cell_type": "markdown",
   "id": "a073e8d8",
   "metadata": {},
   "source": [
    "**4. Построение таргет- и импостор-гистограмм оценок сравнения моделей**\n",
    "\n",
    "После вычисления оценок сравнения для таргет- и импостор-попыток из протокола тестирования можно провести первоначальную оценку качества работы системы распознавания диктора путем виузального анализа *гистограмм распределения таргет-* и *импостор-оценок*. Сила наложения гистограмм друг на друга определяет это качества. Чем сильнее друг на друга наложены гистограммы, тем качество работы системы распознавания диктора ниже и наоборот, чем меньше друг на друга наложены гистограммы, тем качество работы системы распознавания диктора выше. \n",
    "\n",
    "В рамках настоящего пункта необходимо выполнить следующее:\n",
    "\n",
    "1. Разделить оценки сравнения на два набор: таргет-сравнения и импостор-сравнения.\n",
    "\n",
    "2. Построить гистограммы для таргет-оценок и импостор-оценок."
   ]
  },
  {
   "cell_type": "code",
   "execution_count": 11,
   "id": "14566732",
   "metadata": {},
   "outputs": [
    {
     "data": {
      "image/png": "[encoded data removed]",
      "text/plain": [
       "<Figure size 640x480 with 1 Axes>"
      ]
     },
     "metadata": {},
     "output_type": "display_data"
    }
   ],
   "source": [
    "# Compute target and impostor histogram\n",
    "tar_scores, imp_scores = tar_imp_hists(all_scores, all_labels)\n",
    "\n",
    "# Plot histograms for target and impostor scores\n",
    "min_scores = np.concatenate((tar_scores, imp_scores)).min()\n",
    "max_scores = np.concatenate((tar_scores, imp_scores)).max()\n",
    "\n",
    "hist(tar_scores, int(sqrt(len(tar_scores))), histtype='step', color='green', range=(min_scores, max_scores))\n",
    "hist(imp_scores, int(sqrt(len(imp_scores))), histtype='step', color='red',   range=(min_scores, max_scores))\n",
    "xlabel('$s$'); ylabel('$\\widehat{W}(s|H_0)$, $\\widehat{W}(s|H_1)$'); title('VoxCeleb1-O (cleaned), histograms'); grid(); show()"
   ]
  },
  {
   "cell_type": "markdown",
   "id": "9445e4f6",
   "metadata": {},
   "source": [
    "**5. Вычисление порогового значения, вероятности ошибки принятия решения, вероятностей ошибок первого и второго рода**\n",
    "\n",
    "Выражаясь терминами *бинарной теории принятия решений* предположение о наличии таргет-пары при решении задачи распознавания диктора связывается с *нулевой гипотезой* – $H_0$, а предположение о наличии импостор-пары связывается с *альтернативной гипотезой* – $H_1$. Когда задача распознавания диктора рассматривается в качестве задачи верификации в системе возможно возникновение следующих ситуаций:\n",
    "\n",
    "1. Пара сранения «эталон-тест» является таргет-парой, решение системы принимается в пользу таргет-пары – событие $(D_0, H_0)$. Подобную ситуацию называют *правильным положительным решением (true positive)*.\n",
    "\n",
    "2. Пара сранения «эталон-тест» является таргет-парой, решение системы принимается в пользу импостор-пары – событие $(D_1, H_0)$. Подобную ситуацию называют *ложным отрицательным решением (false negative)*. Говорят, что в этом случае возникает *ошибка первого рода*.\n",
    "\n",
    "3. Пара сранения «эталон-тест» является импостор-парой, решение системы принимается в пользу таргет-пары – событие $(D_0, H_1)$. Подобную ситуацию называют *ложным положительным решением (false positive)*. Говорят, что в этом случае возникает *ошибка второго рода*.\n",
    "\n",
    "4. Пара сранения «эталон-тест» является импостор-парой, решение системы принимается в пользу импостор-пары – событие $(D_1, H_1)$. Подобную ситуацию называют *правильным отрицательным решением (true negative)*.\n",
    "\n",
    "Как правило, перед принятием решения значение оценки сравнения эталона и теста представляется в виде *натурального логарифма отношения правдоподобия (LLR, log-likelihood ratio)*:\n",
    "\n",
    "$$LLR = ln \\left [ \\frac{W(s|H_0)}{W(s|H_1)} \\right ],$$ \n",
    "\n",
    "здесь $s$ – величина оценки сравнения эталона и теста, а $W(s|H_0)$ и $W(s|H_1)$ – плотности вероятностей, описывающие распределение оценок сравнения для таргет- и импостор-попыток. Обычно подобные плотности вероятностей рассматриваются в виде *одномерных гауссовских плотностей*, параметры математического ожидания и среднеквадратического отклонения которых оцениваются с использованием некоторого набора данных с помощью следующих математических формул:\n",
    "\n",
    "$$m_{H_i} = \\frac{1}{N_{H_i}}\\sum_{n = 1}^{N_{H_i}}s_n, \\sigma_{H_i} = \\sqrt{\\frac{1}{N_{H_i} - 1}\\sum_{n = 1}^{N_{H_i}}(s_n - m_{H_i})^{2}}, i = 0, 1,$$\n",
    "\n",
    "здесь $N_i$ – количество таргет-/импостор-пар в протоколе верификации, используемом для оценки параметров плотностей веротяностей $W(s|H_0)$ и $W(s|H_1)$. *В простейшем случае этот протокол может совпадать с тестовым протоколом, но ожидания по качеству работы системы распознавания диктора в этом случае будут завышенными!* Поэтому на практике протокол верификации для оценки параметров распределений выше выбирается отличным от протокола тестирования.\n",
    "\n",
    "Для принятия автоматического решения биометрической системой требуется подобрать *величину порога принятия решения*. В случае, если значение $LLR$ для сравниваемой пары «эталон-тест» будет выше порога, решение биометрической системы будет принято в пользу таргет-пары и наоборот, если значение $LLR$ для сравниваемой пары «эталон-тест» будет ниже порога, решение биометрической системы будет принято в пользу импостор-пары.\n",
    "\n",
    "Бинарная теория принятия решений говорит о том, что порог принятия решения может быть выбран несколькими различными способами: критерий максимального правдоподобия, критерий максимума апостериорной вероятности (критерий минимума вероятности ошибки), критерий Неймана-Пирсона, критерий Байеса и минимаксный критерий.\n",
    "\n",
    "*Критерий максимального правдоподобия* предполагает, что априорные вероятности $P(H_0)$ и $P(H_1)$ выпадения таргет- и импостор-пар являются одинаковыми. Математически критерий может быть сформулирован следующим образом: если $LLR > 0$, то решение принимается в пользу таргет-пары и наоборот, если $LLR < 0$, то решение принимается в пользу импостор-пары. Величина порога принятия решения в этом случае равна 0.\n",
    "\n",
    "*Критерий максимума апостериорной вероятности* является более общим, чем критерий максимального правдоподобия и учитывает возможность неравенства априорных вероятностей выпадения таргет- и импостор-пар. Математически критерий может быть сформулирован следующим образом: если $LLR > ln(P(H_1)/P(H_0))$, то решение принимается в пользу таргет-пары и наоборот, если $LLR < ln(P(H_1)/P(H_0))$, то решение принимается в пользу импостор-пары. Величина порога принятия решения в этом случае равна $ln(P(H_1)/P(H_0))$. Иногда рассматриваемый критерий называют *критерием минимума вероятности ошибки*, поскольку можно математически доказать, что рассматриваемый критерий следует из минимизации выражения для *вероятности ошибки системы принятия решения*: \n",
    "\n",
    "$$P_e = P(D_1, H_0) + P(D_0, H_1) = P(D_1|H_0)P(H_0) + P(D_0|H_1)P(H_1),$$\n",
    "\n",
    "где $P(D_1, H_0)$ – вероятность события $(D_1, H_0)$, а $P(D_0, H_1)$ – вероятность события $(D_0, H_1)$. Вероятности $P(D_1|H_0)$ и $P(D_0|H_1)$ называют *вероятностями ошибок первого (FRR, false rejection rate)* и *второго рода (FAR, false acceptance rate)*.\n",
    "\n",
    "*Критерий Неймана-Пирсона* предполагает, что одна из вероятностей ошибок, например, первого рода, строго задана. Величина порога принятия решения выбирается в точке, для которой вероятность другой ошибки, например, второго рода, будет минимальна. \n",
    "\n",
    "*Критерий Байеса* обобщает критерии, описанные выше. В его основе лежит минимизация *средней стоимости* или *байесовского риска*, который математически описывается следующим образом:\n",
    "\n",
    "$$\\overline{C} = C_{00}P(D_0|H_0)P(H_0) + C_{10}P(D_1|H_0)P(H_0) + C_{01}P(D_0|H_1)P(H_1) + C_{11}P(D_1|H_1)P(H_1),$$\n",
    "\n",
    "где $C_{00}$, $C_{10}$, $C_{01}$ и $C_{11}$ представляют скалярные величины, описывающие стоимости, связанные с событиями $(D_0, H_0)$, $(D_1, H_0)$, $(D_0, H_1)$ и $(D_1, H_1)$ соответственно. Минимизация средней стоимости позволяет сформулировать критерий Байеса следующим образом: если $LLR > ln((C_{01} - C_{11})P(H_1)/[(C_{10} - C_{00})P(H_0)])$, то решение принимается в пользу таргет-пары и наоборот, если $LLR < ln((C_{01} - C_{11})P(H_1)/[(C_{10} - C_{00})P(H_0)])$, то решение принимается в пользу импостор-пары. Величина порога принятия решения в этом случае равна $ln((C_{01} - C_{11})P(H_1)/[(C_{10} - C_{00})P(H_0)])$.\n",
    "\n",
    "При рассмотрении практических задач возможна ситуация, при которой априорные вероятности выпадения таргет- и импостор-пар являются неизвестными. В этом случае выбор порога принятия решения может быть выполнен с использованием *минимаксного критерия*. Выражение для среднего риска максимизируется по $P(H_0)$, а затем для найденного значения $P(H_0)$ минимизируется так, как в критерии Байеса.\n",
    "\n",
    "В рамках настоящего пункта требуется выполнить следующие задания:\n",
    "\n",
    "1. Вычислить логарифм отношение правдоподобия для всех оценок сравнения «эталон-тест» из рассматриваемого протокола тестирования. При решении данной задачи необходимо выполнить сортировку значений, в порядке возрастания, внутри одномерного массива, содержащего все оценки сравнения эталонов и тестов. Дополнительно рекомендуется синхронно с массивом выше сформировать одномерный массив, содержащий идеальную разметку сравнений эталонов и тестов.\n",
    "\n",
    "2. Вычислить пороговое значение, верость ошибки принятия решения, вероятности ошибок первого и второга рода на основе оценок сравнения моделей с использованием критерия максимального правдоподобия и критерия максимума апостериорной вероятности (критерий минимума вероятности ошибки).\n",
    "\n",
    "3. Вычислить пороговое значение, верость ошибки принятия решения, вероятность ошибки второга рода для заданной ошибки первого рода на основе оценок сравнения моделей с использованием критерия Неймана-Пирсона.\n",
    "\n",
    "4. Вычислить пороговое значение, верость ошибки принятия решения, вероятности ошибок первого и второга рода на основе оценок сравнения моделей с использованием критерия Байеса.\n",
    "\n",
    "5. Вычислить пороговое значение, верость ошибки принятия решения, вероятности ошибок первого и второга рода, минимум максимума байесовского риска, а также вероятность таргет-пары на основе оценок сравнения моделей с использованием минимаксного критерий."
   ]
  },
  {
   "cell_type": "code",
   "execution_count": 12,
   "id": "83576ca0",
   "metadata": {},
   "outputs": [],
   "source": [
    "# Gaussian probability density function\n",
    "gauss_pdf = lambda score, mu, sigma: 1/((abs(sigma) + 1e-10)*sqrt(2*pi))*np.exp(-(score - mu)**2/(2*(abs(sigma) + 1e-10)**2))"
   ]
  },
  {
   "cell_type": "code",
   "execution_count": 13,
   "id": "429cc966",
   "metadata": {},
   "outputs": [
    {
     "data": {
      "image/png": "[encoded data removed]",
      "text/plain": [
       "<Figure size 640x480 with 1 Axes>"
      ]
     },
     "metadata": {},
     "output_type": "display_data"
    }
   ],
   "source": [
    "# Compute log-likelihood ratio\n",
    "ground_truth_sort, all_scores_sort, tar_gauss_pdf, imp_gauss_pdf, LLR = llr(all_scores, all_labels, tar_scores, imp_scores, gauss_pdf)\n",
    "\n",
    "# Plot PDFs for target and impostor scores\n",
    "plot(all_scores_sort, tar_gauss_pdf, color='green')\n",
    "plot(all_scores_sort, imp_gauss_pdf, color='red')\n",
    "xlabel('$s$'); ylabel('$W(s|H_0)$, $W(s|H_1)$'); title('VoxCeleb1-O (cleaned), PDFs'); grid(); show()"
   ]
  },
  {
   "cell_type": "code",
   "execution_count": 14,
   "id": "7d2f17f1",
   "metadata": {},
   "outputs": [
    {
     "data": {
      "image/png": "[encoded data removed]",
      "text/plain": [
       "<Figure size 640x480 with 1 Axes>"
      ]
     },
     "metadata": {},
     "output_type": "display_data"
    },
    {
     "name": "stdout",
     "output_type": "stream",
     "text": [
      "Threshold value:      -0.018\n",
      "False negative rate:  0.033\n",
      "False positive rate:  0.038\n",
      "Probability of error: 0.035\n"
     ]
    }
   ],
   "source": [
    "# Maximum-likelihood test and maximum a posteriori (MAP) test. MAP is the same as Minimum Probability of Error Test\n",
    "P_Htar = 1/2 # prob. of target hypothesis\n",
    "\n",
    "llr_thr_val, fnr_thr_val, fpr_thr_val, P_err_min = map_test(ground_truth_sort, LLR, tar_scores, imp_scores, P_Htar)\n",
    "\n",
    "print('Threshold value:      {0:.3f}'.format(llr_thr_val))\n",
    "print('False negative rate:  {0:.3f}'.format(fnr_thr_val))\n",
    "print('False positive rate:  {0:.3f}'.format(fpr_thr_val))\n",
    "print('Probability of error: {0:.3f}'.format(P_err_min))"
   ]
  },
  {
   "cell_type": "code",
   "execution_count": 24,
   "id": "5bd9a4ef",
   "metadata": {},
   "outputs": [
    {
     "name": "stdout",
     "output_type": "stream",
     "text": [
      "Threshold value:      -0.035\n",
      "False negative rate:  0.033\n",
      "False positive rate:  0.038\n"
     ]
    }
   ],
   "source": [
    "# Neyman-Pearson test\n",
    "fnr    = 0.033 # given prob. of Type I error P(Dimp|Htar), false negative rate (FNR)\n",
    "\n",
    "llr_thr_val, fpr_thr_val = neyman_pearson_test(ground_truth_sort, LLR, tar_scores, imp_scores, fnr)\n",
    "\n",
    "print('Threshold value:      {0:.3f}'.format(llr_thr_val))\n",
    "print('False negative rate:  {0:.3f}'.format(fnr))\n",
    "print('False positive rate:  {0:.3f}'.format(fpr_thr_val))"
   ]
  },
  {
   "cell_type": "code",
   "execution_count": 16,
   "id": "f4e1ebf4",
   "metadata": {},
   "outputs": [
    {
     "name": "stdout",
     "output_type": "stream",
     "text": [
      "Threshold value:         -0.018\n",
      "False negative rate:     0.033\n",
      "False positive rate:     0.038\n",
      "Minimum of average cost: 0.035\n"
     ]
    }
   ],
   "source": [
    "# Bayes' test\n",
    "P_Htar = 1/2 # prob. of target hypothesis\n",
    "C00    = 0   # cost of event (Dtar, Htar)\n",
    "C10    = 1   # cost of event (Dimp, Htar)\n",
    "C01    = 1   # cost of event (Dtar, Himp)\n",
    "C11    = 0   # cost of event (Dimp, Himp)\n",
    "\n",
    "llr_thr_val, fnr_thr_val, fpr_thr_val, AC_val = bayes_test(ground_truth_sort, LLR, tar_scores, imp_scores, P_Htar, C00, C10, C01, C11)\n",
    "\n",
    "print('Threshold value:         {0:.3f}'.format(llr_thr_val))\n",
    "print('False negative rate:     {0:.3f}'.format(fnr_thr_val))\n",
    "print('False positive rate:     {0:.3f}'.format(fpr_thr_val))\n",
    "print('Minimum of average cost: {0:.3f}'.format(AC_val))"
   ]
  },
  {
   "cell_type": "markdown",
   "metadata": {},
   "source": [
    "To execute this need to install numba=0.57.1"
   ]
  },
  {
   "cell_type": "code",
   "execution_count": 17,
   "id": "d824e41e",
   "metadata": {},
   "outputs": [
    {
     "name": "stdout",
     "output_type": "stream",
     "text": [
      "Threshold value:        -0.018\n",
      "False negative rate:    0.033\n",
      "False positive rate:    0.038\n",
      "Minmax of average cost: 0.036\n",
      "Probability of Htar:    0.440\n"
     ]
    }
   ],
   "source": [
    "# Minimax test\n",
    "P_Htar_thr = np.linspace(0, 1, num=1000) # set of prob. of target hypothesis\n",
    "C00        = 0                           # cost of event (Dtar, Htar)\n",
    "C10        = 1                           # cost of event (Dimp, Htar)\n",
    "C01        = 1                           # cost of event (Dtar, Himp)\n",
    "C11        = 0                           # cost of event (Dimp, Himp)\n",
    "\n",
    "llr_thr_val, fnr_thr_val, fpr_thr_val, AC_val, P_Htar_thr_val = minmax_test(ground_truth_sort, LLR, tar_scores, imp_scores, P_Htar_thr, C00, C10, C01, C11)\n",
    "\n",
    "print('Threshold value:        {0:.3f}'.format(llr_thr_val))\n",
    "print('False negative rate:    {0:.3f}'.format(fnr_thr_val))\n",
    "print('False positive rate:    {0:.3f}'.format(fpr_thr_val))\n",
    "print('Minmax of average cost: {0:.3f}'.format(AC_val))\n",
    "print('Probability of Htar:    {0:.3f}'.format(P_Htar_thr_val))"
   ]
  },
  {
   "cell_type": "markdown",
   "id": "db962adc",
   "metadata": {},
   "source": [
    "**6. Вычисление значения равновероятной ошибки**\n",
    "\n",
    "Оценивать качество работы системы распознавания диктора визуально по наложению гистограмм для таргет- и импостор-оценок сравнения эталона и теста не очень удобно. Особенно тогда, когда количество сравниваемых системы очень большое. Поэтому можно воспользоваться некоторыми численными метриками автоматической оценки качества, например, вероятностью ошибки, как это было выполнено выше. В предположении, что априорные вероятности выпадения таргет- и импостор-пар сравнения эталонов и тестов являются одинаковыми, а также считая, что порог принятия решения выбран в точке, для которой вероятности ошибок первого и второго рода одинаковые, вероятность ошибки превращается *метрику равновероятной ошибки (EER, equal error rate)*.\n",
    "\n",
    "Рассмотрим вычисление величины равновероятной ошибки для используемого протокола тестирования VoxCeleb1-O (cleaned)."
   ]
  },
  {
   "cell_type": "code",
   "execution_count": 18,
   "id": "b9dbbc3a",
   "metadata": {},
   "outputs": [
    {
     "name": "stdout",
     "output_type": "stream",
     "text": [
      "Equal Error Rate (EER): 3.595%\n"
     ]
    }
   ],
   "source": [
    "# Compute Equal Error Rate\n",
    "EER, _ = get_eer(tar_scores, imp_scores)\n",
    "\n",
    "print('Equal Error Rate (EER): {0:.3f}%'.format(EER))"
   ]
  },
  {
   "cell_type": "code",
   "execution_count": 19,
   "metadata": {},
   "outputs": [],
   "source": [
    "solution = LLR > LLR[4]\n",
    "err = (solution != ground_truth_sort)"
   ]
  },
  {
   "cell_type": "code",
   "execution_count": 20,
   "metadata": {},
   "outputs": [
    {
     "name": "stdout",
     "output_type": "stream",
     "text": [
      "27 s ± 1.7 s per loop (mean ± std. dev. of 7 runs, 1 loop each)\n"
     ]
    }
   ],
   "source": [
    "%%timeit\n",
    "for _ in range(len(LLR)):\n",
    "    np.sum(err[ ground_truth_sort])/len(tar_scores)\n",
    "    np.sum(err[ ground_truth_sort])/len(tar_scores)\n",
    "    np.sum(err[ ground_truth_sort])/len(tar_scores)\n",
    "    np.sum(err[ ground_truth_sort])/len(tar_scores)"
   ]
  },
  {
   "cell_type": "code",
   "execution_count": 21,
   "metadata": {},
   "outputs": [],
   "source": [
    "for _ in range(len(LLR)):\n",
    "    np.sum(err[ ground_truth_sort])/len(tar_scores)\n",
    "    np.sum(err[ ground_truth_sort])/len(tar_scores)\n",
    "    np.sum(err[ ground_truth_sort])/len(tar_scores)\n",
    "    np.sum(err[ ground_truth_sort])/len(tar_scores)"
   ]
  },
  {
   "cell_type": "markdown",
   "id": "e74a7b8b",
   "metadata": {},
   "source": [
    "**7. Контрольные вопросы**\n",
    "\t\t\t\t\t\t\t\t\t\t\t\n",
    "1. Как устроен протокол тестирования системы верификации?\t\t\t\t\t\t\t\t\t\t\t\n",
    "2. Что такое таргет- и импостор-пара?\t\t\t\t\t\t\t\t\t\t\t\n",
    "3. Какие подходы к сравнению дикторских моделей вам известны?\n",
    "4. Что такое критерий принятия решения и какими они бывают (максимального правдоподобия, максимума апостериорной вероятности, Неймана-Пирсона, байесовский, минимаксный)?\t\t\n",
    "5. Что такое ошибки первого и второго рода и как вычислить их вероятности (FRR, false rejection rate, и FAR, false acceptance rate) в распознавании диктора?\n",
    "6. Что такое равный уровень ошибок (EER, equal error rate)?\t\t\t\t\t\t\t\t\t\t\t\n",
    "7. Что такое кривая функционирования приемника (ROC, receiver operating characteristic) и кривая компромисса между ошибками детектирования (DET, detection error tradeoff)?"
   ]
  },
  {
   "cell_type": "markdown",
   "id": "1015eb2b",
   "metadata": {},
   "source": [
    "**8. Список литературы**\n",
    "\n",
    "1. Hsu H.P. Schaum’s Ouline of Analog and Digital Communications. McGraw-Hill, 2003 ([ссылка](http://www.oasitech.it/upl/ese_schaum.pdf)).\n",
    "\n",
    "2. Hsu H.P. Schaum’s Ouline of Theory and Problems of Probability, Random Variables, and Random Processes. McGraw-Hill, 1997 ([ссылка](http://webpages.iust.ac.ir/matashbar/teaching/schaum_probability.pdf))."
   ]
  }
 ],
 "metadata": {
  "kernelspec": {
   "display_name": "Python 3 (ipykernel)",
   "language": "python",
   "name": "python3"
  },
  "language_info": {
   "codemirror_mode": {
    "name": "ipython",
    "version": 3
   },
   "file_extension": ".py",
   "mimetype": "text/x-python",
   "name": "python",
   "nbconvert_exporter": "python",
   "pygments_lexer": "ipython3",
   "version": "3.8.18"
  }
 },
 "nbformat": 4,
 "nbformat_minor": 5
}
