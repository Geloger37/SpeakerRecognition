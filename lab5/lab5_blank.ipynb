{
 "cells": [
  {
   "cell_type": "markdown",
   "id": "3f4cabff",
   "metadata": {},
   "source": [
    "**Лабораторный практикум по курсу «Распознавание диктора», Университет ИТМО, 2021**\t\t"
   ]
  },
  {
   "cell_type": "markdown",
   "id": "ee4ff96e",
   "metadata": {},
   "source": [
    "**Лабораторная работа №5. Адаптация и калибровка системы распознавания диктора**\n",
    "\n",
    "**Цель работы:** изучение методов адаптации и калибровки, используемых на практике при решении задачи голосовой биометрии.\n",
    "\n",
    "**Краткое описание:** в рамках настоящей лабораторной работы предлагается изучить и реализовать некоторые алгоритмы адаптации и калибровки биометрических систем. В качестве процедуры адаптации предлагается рассмотреть адаптацию на основе s-нормализации. Процедуру калибровки предлагается реализовать с помощью метода логистической регрессии. Тестирование системы голосовой биометрии после выполнения процедур адаптации и калибровки предлагается выполнить на основе метрик равновероятной ошибки и минимума функции стоимости детектирования применительно к задаче верификации.\n",
    "\n",
    "**Данные:** в качестве данных для выполнения лабораторной работы предлагается использовать тестовую часть базы\n",
    "[VoxCeleb1](http://www.robots.ox.ac.uk/~vgg/data/voxceleb/vox1.html) и [VoxCeleb2](http://www.robots.ox.ac.uk/~vgg/data/voxceleb/vox2.html).\n",
    "\n",
    "**Содержание лабораторной работы**\n",
    "\n",
    "1.\tПодготовка данных для выполнения процедуры адаптации.  \n",
    "\n",
    "2.\tРеализация процедуры адаптации с использованием s-нормализации.  \n",
    "\n",
    "3.\tТестирование адаптированной к некоторым условиям биометрической системы.  \n",
    "\n",
    "4.\tПодготовка данных для выполнения процедуры калибровки.  \n",
    "\n",
    "5.\tРеализация простейшего алгоритма для выполнения процедуры калибровки системы голосовой биометрии.  \n",
    "\n",
    "6.\tТестирование калиброванной системы голосовой биометрии.  "
   ]
  },
  {
   "cell_type": "code",
   "execution_count": 1,
   "id": "6a241fed",
   "metadata": {},
   "outputs": [],
   "source": [
    "# IPython extension to reload modules before executing user code\n",
    "%load_ext autoreload\n",
    "%autoreload 2\n",
    "\n",
    "# Import of modules\n",
    "import os\n",
    "import sys\n",
    "\n",
    "sys.path.append(os.path.realpath('..'))\n",
    "\n",
    "import torch\n",
    "import numpy as np\n",
    "import itertools\n",
    "\n",
    "from math import sqrt, pi\n",
    "from matplotlib.pyplot import hist, plot, show, grid, title, xlabel, ylabel, legend, axis, imshow\n",
    "from torch.utils.data import DataLoader\n",
    "from functools import partial\n",
    "import glob\n",
    "\n",
    "import common\n",
    "from common import download_dataset, extract_dataset, download_protocol, run_voxceleb_convert, part_extract\n",
    "from common import get_voxceleb_filelist\n",
    "from common import test_dataset_loader\n",
    "from common import extract_features, compute_scores_cosine\n",
    "from common import get_eer, get_dcf\n",
    "from common import concatenate\n",
    "from common import tsne\n",
    "from LoadModel import load_model\n",
    "from ResNetSE34V2 import MainModel\n",
    "\n",
    "from exercises_blank import plot_histograms_2sets, s_norm, get_tar_imp_scores, train_calibration\n",
    "from exercises_blank import CalibrationLoss, LinearCalibrationModel, CalibrationDataset, train_calibration\n",
    "from Optimizer import SGDOptimizer\n",
    "from Scheduler import StepLRScheduler"
   ]
  },
  {
   "cell_type": "markdown",
   "id": "e733c6e1",
   "metadata": {},
   "source": [
    "**1. Подготовка тестовых данных и протокола для проведения тестирования системы верификации диктора**\n",
    "\n",
    "В ходе выполнения лабораторной работы необходимы *тестовые данные*, а также связанный с ними *протокол тестирования*. Данные представляют собой звукозаписи голосов людей мужского и женского пола, сохраненных в формат *wav*. Протокол тестирования организован в виде текстового файла, в каждой строчке которого содержится одна таргет- или импостор-попытка сравнения эталонной и тестовой звукозаписи (рассматривается задача *верификации диктора*, т.е. сравнение «один к одному»). Голоса эталона и теста из *таргет-попытки* (метка «1») соответствуют одному и тому же диктору, а голоса эталона и теста из *импостор-попытки* (метка «0») соответствуют разным дикторам.\n",
    "\n",
    "Необходимые данные можно скачать по ссылкам, представленным ниже. В рамках настоящего пункта требуется:\n",
    "\n",
    "1. Выполнить загрузку и распаковку звуковых wav-файлов базы [VoxCeleb1 test set](https://thor.robots.ox.ac.uk/~vgg/data/voxceleb/vox1a/vox1_test_wav.zip) и [VoxCeleb2 test set](https://thor.robots.ox.ac.uk/~vgg/data/voxceleb/vox1a/vox2_test_wav.zip).\n",
    "\n",
    "2. Преобразовать базу [VoxCeleb2 test set](https://thor.robots.ox.ac.uk/~vgg/data/voxceleb/vox1a/vox2_test_wav.zip) из aac-формата в wav-формат.\n",
    "\n",
    "3. Выполнить загрузку протокола тестирования [VoxCeleb1-O cleaned](https://www.robots.ox.ac.uk/~vgg/data/voxceleb/meta/veri_test2.txt).\n",
    "\n",
    "4. Подготовить тестовые и адаптационные данные путём применения к оригинальным звукозаписям MP3-кодека. В качестве тестовых данных предлагается рассмотреть данные полученные из базы VoxCeleb1 test set, а в качестве адаптационных – из базы VoxCeleb2 test set.\n",
    "\n",
    "![Рисунок 1](https://analyticsindiamag.com/wp-content/uploads/2020/12/image.png \"VoxCeleb. Крупномасштабная аудиовизуальная база данных человеческой речи.\")"
   ]
  },
  {
   "cell_type": "code",
   "execution_count": 2,
   "id": "e8b2ec99",
   "metadata": {},
   "outputs": [],
   "source": [
    "# # Download VoxCeleb1 (test set)\n",
    "# with open('../data/lists/datasets.txt', 'r') as f:\n",
    "#     lines = f.readlines()\n",
    "\n",
    "# download_dataset(lines, user='voxceleb1902', password='nx0bl2v2', save_path='../data')"
   ]
  },
  {
   "cell_type": "code",
   "execution_count": 3,
   "id": "7f5008dd",
   "metadata": {
    "pycharm": {
     "name": "#%%\n"
    }
   },
   "outputs": [],
   "source": [
    "# # Download VoxCeleb2 (test set)\n",
    "# with open('../data/lists/datasets2.txt', 'r') as f:\n",
    "#     lines = f.readlines()\n",
    "\n",
    "# download_dataset(lines, user='voxceleb1902', password='nx0bl2v2', save_path='../data')"
   ]
  },
  {
   "cell_type": "code",
   "execution_count": 4,
   "id": "3cb91462",
   "metadata": {},
   "outputs": [],
   "source": [
    "# Extract VoxCeleb1 (test set) and VoxCeleb2 (test set)\n",
    "# extract_dataset(save_path='../data/voxceleb1_test', fname='../data/vox1_test_wav.zip')\n",
    "# extract_dataset(save_path='../data/voxceleb2_test', fname='../data/vox2_test_aac.zip')"
   ]
  },
  {
   "cell_type": "code",
   "execution_count": 5,
   "id": "435afd75",
   "metadata": {
    "pycharm": {
     "name": "#%%\n"
    }
   },
   "outputs": [],
   "source": [
    "# def aac_to_wav(infile, outfile):\n",
    "#     # Function to convert from aac to wav\n",
    "#     common.aac_to_wav(infile, outfile)\n",
    "\n",
    "# # Prepare VoxCeleb2: convert from aac to wav format\n",
    "# run_voxceleb_convert(input_path='../data/voxceleb2_test/aac',\n",
    "#                      result_path='../data/voxceleb2_test/wav',\n",
    "#                      fun=aac_to_wav)"
   ]
  },
  {
   "cell_type": "code",
   "execution_count": 6,
   "id": "1a056ddb",
   "metadata": {
    "pycharm": {
     "name": "#%%\n"
    }
   },
   "outputs": [],
   "source": [
    "# def convert_to_in_domain(infile, outfile):\n",
    "#     # Function to apply mp3 codec\n",
    "#     common.apply_mp3_codec(infile, outfile)\n",
    "\n",
    "# # Create in-domain dataset\n",
    "# run_voxceleb_convert(input_path='../data/voxceleb1_test/wav',\n",
    "#                      result_path='../data/voxceleb1_test/wav_mp3_codec',\n",
    "#                      fun=convert_to_in_domain,\n",
    "#                      threads=10)\n",
    "\n",
    "# # Create adaptation dataset\n",
    "# run_voxceleb_convert(input_path='../data/voxceleb2_test/wav',\n",
    "#                      result_path='../data/voxceleb2_test/wav_mp3_codec',\n",
    "#                      fun=convert_to_in_domain,\n",
    "#                      threads=10)"
   ]
  },
  {
   "cell_type": "code",
   "execution_count": 7,
   "id": "ebd1a7f7",
   "metadata": {},
   "outputs": [],
   "source": [
    "# # Download VoxCeleb1-O cleaned protocol\n",
    "# with open('../data/lists/protocols.txt', 'r') as f:\n",
    "#     lines = f.readlines()\n",
    "    \n",
    "# download_protocol(lines, save_path='../data/voxceleb1_test')"
   ]
  },
  {
   "cell_type": "markdown",
   "id": "74a17756",
   "metadata": {},
   "source": [
    "**2. Вычисление дикторских моделей для эталонных и тестовых звукозаписей используемого протокола**\n",
    "\n",
    "В рамках настоящего исследования рассматриваются 2 тестовые базы:\n",
    "\n",
    "1. *Out-of-domain*, исходная тестовая база VoxCeleb1 test set в микрофонном канале.\n",
    "2. *In-domain*, целевая тестовая база VoxCeleb1 test set, обработанная MP3-кодеком.\n",
    "\n",
    "Аналогично лабораторной работе №4, построим дикторские модели для имеющихся тестовых баз с использованием обученного на out-of-domain тренировочном множестве (без применения MP3-кодека) для микрофонного канала нейросетевого экстрактора эмбеддингов и оценим качество полученных дикторских моделей на имеющихся in-domain и out-of-domain тестовых данных. Последовательность действий в рамках настоящего пункта должна быть следующей:\n",
    "\n",
    "1. Описать и инициализировать модель для генерации дикторских эмбеддингов.\n",
    "2. Вгрузить в инициализированную модель обученные веса.\n",
    "3. Вычислить эмбеддинги для эталонных и тестовых звукозаписей для исходной тестовой базы (out-of-domain условия).\n",
    "4. Повторить п.3 для второй тестовой базы (in-domain условия)."
   ]
  },
  {
   "cell_type": "code",
   "execution_count": 8,
   "id": "885652b5",
   "metadata": {},
   "outputs": [
    {
     "name": "stdout",
     "output_type": "stream",
     "text": [
      "Embedding size is 512, encoder ASP.\n"
     ]
    }
   ],
   "source": [
    "# Model initialization\n",
    "model = MainModel()"
   ]
  },
  {
   "cell_type": "code",
   "execution_count": 9,
   "id": "630b6a82",
   "metadata": {},
   "outputs": [
    {
     "name": "stdout",
     "output_type": "stream",
     "text": [
      "/home/ext-shirokov-m@ad.speechpro.com/shirokov/SpeakerRecognition\n"
     ]
    },
    {
     "name": "stdout",
     "output_type": "stream",
     "text": [
      "/home/ext-shirokov-m@ad.speechpro.com/shirokov/SpeakerRecognition/lab4\n",
      "Embedding size is 512, encoder SP.\n",
      "Initialised AAM softmax margin 0.350 scale 32.000.\n"
     ]
    }
   ],
   "source": [
    "# # Load trained model\n",
    "# with open('../data/lists/models.txt', 'r') as f:\n",
    "#     lines = f.readlines()\n",
    "        \n",
    "# model = load_model(model, lines, save_path='../data/models')\n",
    "\n",
    "# model.eval()\n",
    "\n",
    "# model = model.cuda()\n",
    "\n",
    "%cd ../\n",
    "from lab3.exercises_blank import ResNet, MainModel\n",
    "from lab3.ResNetBlocks import BasicBlock\n",
    "from lab3.LossFunction import AAMSoftmaxLoss\n",
    "%cd lab4\n",
    "\n",
    "# Initialize model\n",
    "layers            = [3, 4, 6, 3]\n",
    "activation        = torch.nn.ReLU\n",
    "num_filters       = [32, 64, 128, 256]\n",
    "nOut              = 512\n",
    "encoder_type      = 'SP'\n",
    "n_mels            = 40\n",
    "log_input         = True\n",
    "margin            = 0.35\n",
    "scale             = 32.0\n",
    "model      = ResNet(BasicBlock, layers=layers, activation=activation, num_filters=num_filters, nOut=nOut, encoder_type=encoder_type, n_mels=n_mels, log_input=log_input)\n",
    "trainfunc  = AAMSoftmaxLoss(nOut=nOut, nClasses=1211, margin=margin, scale=scale)\n",
    "main_model = MainModel(model, trainfunc).cuda()\n",
    "\n",
    "checkpoint = torch.load(\"../data/lab3_models_aug/lab3_model_0039.pth\")\n",
    "main_model.load_state_dict(checkpoint['model'])\n",
    "model = main_model.__S__\n",
    "model.eval()\n",
    "model = model.cuda()"
   ]
  },
  {
   "cell_type": "code",
   "execution_count": 10,
   "id": "274117cc",
   "metadata": {},
   "outputs": [],
   "source": [
    "# Read test protocol\n",
    "with open('../data/voxceleb1_test/veri_test2.txt', 'r') as f:\n",
    "    protocol = f.readlines()\n",
    "\n",
    "# Get a list of unique file names\n",
    "files = list(itertools.chain(*[x.strip().split()[-2:] for x in protocol]))\n",
    "setfiles = list(set(files))\n",
    "setfiles.sort()"
   ]
  },
  {
   "cell_type": "markdown",
   "id": "b0d5f8f7",
   "metadata": {},
   "source": [
    "Построим эмбеддинги для исходной базы VoxCeleb1 test, то есть out-of-domain тестовой базы."
   ]
  },
  {
   "cell_type": "code",
   "execution_count": 11,
   "id": "848afea1",
   "metadata": {},
   "outputs": [
    {
     "name": "stderr",
     "output_type": "stream",
     "text": [
      "/home/ext-shirokov-m@ad.speechpro.com/.local/lib/python3.8/site-packages/torch/utils/data/dataloader.py:474: UserWarning: This DataLoader will create 8 worker processes in total. Our suggested max number of worker in current system is 4, which is smaller than what this DataLoader is going to create. Please be aware that excessive worker creation might get DataLoader running slow or even freeze, lower the worker number to avoid potential slowness/freeze if necessary.\n",
      "  warnings.warn(_create_warning_msg(\n"
     ]
    }
   ],
   "source": [
    "# Define test dataloader\n",
    "test_dataset = test_dataset_loader(setfiles, test_path='../data/voxceleb1_test/wav', eval_frames=500, num_eval=1)\n",
    "test_loader  = torch.utils.data.DataLoader(test_dataset, batch_size=1, shuffle=False, num_workers=8, drop_last=False, sampler=None)\n",
    "\n",
    "# Extract features for every image\n",
    "feats_out_of_domain = extract_features(model, test_loader)"
   ]
  },
  {
   "cell_type": "markdown",
   "id": "d6b4a4bc",
   "metadata": {},
   "source": [
    "Построим эмбеддинги для in-domain тестовой базы (протокол остался прежним, имена файлов тоже, поэтому список setfiles не изменился)."
   ]
  },
  {
   "cell_type": "code",
   "execution_count": 12,
   "id": "305b38f5",
   "metadata": {},
   "outputs": [],
   "source": [
    "# Define test data loader\n",
    "test_dataset = test_dataset_loader(setfiles, test_path='../data/voxceleb1_test/wav_mp3_codec', eval_frames=500, num_eval=1)\n",
    "test_loader  = torch.utils.data.DataLoader(test_dataset, batch_size=1, shuffle=False, num_workers=8, drop_last=False, sampler=None)\n",
    "\n",
    "# Extract features for every image\n",
    "feats_in_domain = extract_features(model, test_loader)"
   ]
  },
  {
   "cell_type": "markdown",
   "id": "36e4a2f7",
   "metadata": {},
   "source": [
    "**3. Формирование оценок сравнения эталонных и тестовых дикторских моделей**\n",
    "\n",
    "Для того, чтобы автоматически принять решении о принадлежности пары сравнения «эталон-тест» к таргет- или импостор-попытке, необходимо сформировать *оценку сравнения* между эталонной и тестовой дикторскими моделями, иначе мы называем их scores (скоры). В простейшем случае подобные сравнения можно выполнить с использованием *евклидовой метрики*, *косинусной метрики* и т.п.\n",
    "\n",
    "В рамках настоящего пункта необходимо выполнить следующее:\n",
    "\n",
    "1. Выполнить формирование оценок сравнения эталонных и дикторских моделей с использованием любой подходящей метрики (евклидово расстояние, косинусное расстояние и т.п.).\n",
    "\n",
    "2. Сформировать списки оценок сравнения, таргет-/импостор-меток и имен эталон-тест в триальных сравнениях.\n",
    "\n",
    "3. Получить оценки EER и построить графики распределения для тестовых баз in-domain и out-of-domain."
   ]
  },
  {
   "cell_type": "code",
   "execution_count": 13,
   "id": "40271963",
   "metadata": {},
   "outputs": [
    {
     "name": "stderr",
     "output_type": "stream",
     "text": [
      "Scoring progress:   0%|          | 0/37611 [00:00<?, ?it/s]"
     ]
    },
    {
     "name": "stderr",
     "output_type": "stream",
     "text": [
      "Scoring progress: 100%|██████████| 37611/37611 [00:08<00:00, 4616.42it/s]\n",
      "Scoring progress:  53%|█████▎    | 19967/37611 [00:04<00:03, 4535.55it/s]"
     ]
    }
   ],
   "source": [
    "# Compute scores between enroll and test speaker models for in-domain and out-of-domain data\n",
    "all_scores_in_domain, all_labels_in_domain, all_trials_in_domain = compute_scores_cosine(feats_in_domain, protocol)\n",
    "all_scores_out_of_domain, all_labels_out_of_domain, all_trials_out_of_domain = compute_scores_cosine(feats_out_of_domain, protocol)\n",
    "\n",
    "# Compute target and impostor histogram\n",
    "plot_histograms_2sets(all_scores_in_domain, all_labels_in_domain,\n",
    "                      all_scores_out_of_domain, all_labels_out_of_domain)"
   ]
  },
  {
   "cell_type": "markdown",
   "id": "85957791",
   "metadata": {},
   "source": [
    "**4. Доменная адаптация на основе s-нормализации**\n",
    "\n",
    "*Доменная адаптация* рассматривается как проблема настройки параметров модели для случая когда существует большой объём нецелевых данных (out-of-domain data, source data) и малый объём размеченных или неразмеченных целевых данных (in-domain data, target data). В научно-технической литературе по распознаванию диктора часто выделяют следующие адаптационные техники: вычитание среднего, s-норма, CORAL, CORAL+, GRL, MultiReader и т.п. Важно отметить, что доменная адаптация может выполняться на всех этапах конвейера голосовой биометрии, то есть на этапе предобработки, диаризации, построения дикторской модели и т.п.\n",
    "\n",
    "В рамках настоящей лабораторной работы рассматривается наиболее часто используемый в научно-технической литературе подход доменной адаптации, основанный на процедуре s-нормализация. \n",
    "\n",
    "*Адаптация с помощью s-нормы* предполагает выполнение процедуры нормализации оценок сравнения эталонов и тестов с целью уменьшения вариативности в попытках сравнения, которое ведёт к более лучшей калибровке и более надёжному выбору порога принятия решения. При выполнении адаптации на основе s-нормы необходимо выполнить следующую последовательность действий:\n",
    "\n",
    "1. Выполнить сравнение эталонной и тестовой дикторских моделей в рамках одной попытки, получив оценку.\n",
    "2. Ввести в рассмотрение импосторную когорту, состоящую из дикторских моделей, которые не пересекаются, в смысле дикторских меток, с эталонной и тестовой моделями в рамках одной попытки.\n",
    "3. Сравнить эталонную дикторскую модель с каждой моделью из импосторной когорты, получив оценки сравнения; упорядочить оценки сравнения по убыванию схожести моделей; выбрать первые $N$ оценок (самые сложные оценки сравнения) и вычислить для них среднее, $\\mu_e$, и среднеквадратическое отклонение, $\\sigma_e$.\n",
    "4. Повторить процедуру выше для тестовой дикторской модели, получив значения $\\mu_t$ и $\\sigma_t$.\n",
    "5. Выполнить нормализацию оценки сравнения $S$ для рассматриваемой попытки: $\\hat{S}=\\frac{S - \\mu_e}{2\\sigma_e} + \\frac{S - \\mu_t}{2\\sigma_t}$.\n",
    "\n",
    "В рамках настоящего пункта необходимо реализовать этапы, описанные выше. Как и ранее, предполагается, что данные из базы VoxCeleb2 test set будут использоваться в качестве адаптационного множества. Поскольку основу адаптации с помощью s-нормы составляет импосторная когорта, то искажённые под целевые условия данные из базы VoxCeleb2 test set в рамках настоящего пункта предполагается использовать для построения этой когорты. При при проведении тестов в одном случае база VoxCeleb1 test set будет рассматривается в оригинальном виде, а в другом – в искажённом, в котором предполагается, что выбранное искажение моделирует целевые условия. Итогом выполнения настоящего пункта является оценка качества полученного после адаптации к целевым условиям верификационного решения. Качество предлагается проанализировать с использованием метрики EER и гистограмм распределения таргет- и импостор-оценок."
   ]
  },
  {
   "cell_type": "code",
   "execution_count": null,
   "id": "5ec9b483",
   "metadata": {},
   "outputs": [
    {
     "name": "stderr",
     "output_type": "stream",
     "text": [
      "/home/ext-shirokov-m@ad.speechpro.com/.local/lib/python3.8/site-packages/torch/utils/data/dataloader.py:474: UserWarning: This DataLoader will create 8 worker processes in total. Our suggested max number of worker in current system is 4, which is smaller than what this DataLoader is going to create. Please be aware that excessive worker creation might get DataLoader running slow or even freeze, lower the worker number to avoid potential slowness/freeze if necessary.\n",
      "  warnings.warn(_create_warning_msg(\n"
     ]
    }
   ],
   "source": [
    "setfiles = get_voxceleb_filelist(input_path='../data/voxceleb2_test/wav_mp3_codec')\n",
    "setfiles.sort()\n",
    "\n",
    "# Define adaptation data loader\n",
    "adapt_dataset = test_dataset_loader(setfiles, test_path='../data/voxceleb2_test/wav_mp3_codec', eval_frames=1000, num_eval=1)\n",
    "adapt_loader  = torch.utils.data.DataLoader(adapt_dataset, batch_size=1, shuffle=False, num_workers=8, drop_last=False, sampler=None)\n",
    "\n",
    "# Extract features for every image\n",
    "feats_adapt = extract_features(model, adapt_loader)"
   ]
  },
  {
   "cell_type": "code",
   "execution_count": null,
   "metadata": {},
   "outputs": [],
   "source": [
    "# s_norm(feats_in_domain, protocol, feats_adapt, N_s=100, eps=0.6)"
   ]
  },
  {
   "cell_type": "code",
   "execution_count": null,
   "metadata": {},
   "outputs": [],
   "source": [
    "# s_norm(feats_in_domain, protocol, feats_adapt, N_s=100, eps=0.6)"
   ]
  },
  {
   "cell_type": "code",
   "execution_count": null,
   "id": "bf7034ab",
   "metadata": {},
   "outputs": [
    {
     "name": "stdout",
     "output_type": "stream",
     "text": [
      "(4708, 100)\n",
      "(4706, 100)\n",
      "(4708,)\n",
      "(4706,)\n",
      "(4708,)\n",
      "(4706,)\n"
     ]
    },
    {
     "name": "stderr",
     "output_type": "stream",
     "text": [
      "100%|██████████| 37611/37611 [00:15<00:00, 2425.24it/s]\n"
     ]
    },
    {
     "data": {
      "image/png": "[encoded data removed]",
      "text/plain": [
       "<Figure size 640x480 with 1 Axes>"
      ]
     },
     "metadata": {},
     "output_type": "display_data"
    },
    {
     "name": "stdout",
     "output_type": "stream",
     "text": [
      "Equal Error Rate in-domain (EER): 8.340%, threshold EER: -0.284 \n",
      "Equal Error Rate out-of-domain (EER): 4.051%, threshold EER: 0.242 \n"
     ]
    }
   ],
   "source": [
    "# Perform s normalization\n",
    "all_scores_in_domain, all_labels_in_domain, all_trials_in_domain = s_norm(feats_in_domain, protocol, feats_adapt, N_s=100, eps=0.6)\n",
    "\n",
    "# Compute target and impostor histogram\n",
    "plot_histograms_2sets(all_scores_in_domain, all_labels_in_domain,\n",
    "                      all_scores_out_of_domain, all_labels_out_of_domain)"
   ]
  },
  {
   "cell_type": "markdown",
   "id": "e72bcb50",
   "metadata": {},
   "source": [
    "**5. Калибровка системы голосовой биометрии**\n",
    "\n",
    "Результатом процедуры сравнения дикторских моделей являются «сырые» оценки сравнения. Основными проблемами при использовании «сырых» оценок являются:\n",
    "\n",
    "1. Порог принятия решения для выбранной рабочей точки полностью привязан к системе распознавания диктора (если существует $N$ систем, то существует $N$ порогов).\n",
    "2. Для произвольной выходной оценки сравнения нет информации о вероятности принадлежности к статистическим гипотезам.\n",
    "3. Сложно учесть влияние параметров качества речевого сигнала на выходные оценки.\n",
    "\n",
    "*Калибровка* является решением указанных проблем. Необходимость калибровки в сообществе по распознаванию диктора обусловлена следующим:\n",
    "\n",
    "1. Представление оценок сравнения в калиброванном виде для конкурсов, например, NIST SRE. Качество калибровки учитывается наравне с качеством верификации.\n",
    "2. В коммерческих системах распознавания по голосу, так как на практике для заданной оценки сравнения важно знать вероятность статистической гипотезы.\n",
    "\n",
    "В простейшем случае модель калибровки для системы распознавания диктора может быть описаны в виде линейной функциональной зависимости: $S_c = aS + b$. Здесь $a$ и $b$ – это параметры линейной модели калибровки, $S$ – это «сырое» значение оценки сравнения, а $S_c$ – значение оценки сравнения после калибровки.\n",
    "\n",
    "Для обучения параметров $a$ и $b$ линейной модели калибровки можно воспользоваться стоимостной функцией для *логистической регресии*. Можно доказать, что при решении задачи верификации апостериорная вероятность принадлежности пары сравнения «эталон-тест» к таргет-паре (нулевая гипотеза, $H_0$) для заданного значения калиброванной оценки сравнения эталона и теста может быть выражена следующим образом: $P(H_0|S_c) = \\frac{1}{1 + e^{-S_c + T_{act}^{LLR}}}$. Здесь $T_{act}^{LLR}$ – это величина оптимального порога принятия решения в пространстве логарифма отношения правдоподобия. Фактически, величина $T_{act}^{LLR}$ задаёт желаемую теоретически рабочую точку биометрической системы. Обычно в научно-технической литературе по распознаванию диктора величина $T_{act}^{LLR}$ задается в следующем виде: $T_{act}^{LLR} = ln\\left ( \\frac{1 - P(H_0)}{P(H_0)} \\right )$. Здесь $P(H_0)$ – это априорная вероятность таргет-гипотезы. Аналогичным образом, что и выше, можно записать апостериорную вероятность принадлежности пары сравнения «эталон-тест» к импостор-паре (альтернативная гипотеза, $H_1$) для заданного значения калиброванной оценки сравнения эталона и теста: $P(H_1|S_c) = \\frac{1}{1 + e^{S_c - T_{act}^{LLR}}}$. Предполагая, что априорные вероятность выпадения таргет- и импостор-попыток равны $P(H_0)$ и $P(H_1)$, соответственно, можно записать следующее выражение для стоимостной функции, которая позволит путём численной оптимизации, вычислить оптимальные значения параметров $a$ и $b$ через минимизацию стоимостной функции:\n",
    "\n",
    "$$J(a,b) = \\frac{P(H_0)}{N_0}\\sum_{i=1}^{N_0}ln\\left ( 1 + e^{-(aS_i + b) + T_{act}^{LLR}} \\right ) + \\frac{1 - P(H_0)}{N_1}\\sum_{i=1}^{N_1}ln\\left ( 1 + e^{aS_i + b - T_{act}^{LLR}} \\right ),$$\n",
    "\n",
    "где $N_0$ и $N_1$ – это количество таргет- и импостор-пар в калибровочном протоколе для верификации, который необходимо подготовить отдельно перед обучением калибровочной модели. Попытки сравнения «эталон-тест» в калибровочном протоколе должны быть схожими с теми, что будут встречаться при практическом использовании итоговой системы распознавания диктора, в смысле длительностей эталонной и тестовой звукозаписей, условий записи фонограмм и т.п.\n",
    "\n",
    "Для оценки качества модели калибровки системы голосовой биометрии можно воспользоваться подходом представленным ниже.\n",
    "\n",
    "Пусть в настоящей лабораторной работе *байесовский риск* задан в следующем виде: $\\overline{C} = P(D_1|H_0)P(H_0) + P(D_0|H_1)P(H_1)/P(H_0)$. Здесь $P(D_1|H_0)$ – это вероятность ошибки первого рода, а $P(D_0|H_1)$ – вероятность ошибки второго рода. Биометрическая система считается откалиброванной, если практический минимум байесовского риска, $\\overline{C}_{min}$, вычисленный в эмпирически подобранном пороге $T_{min}^{LLR}$ по отношению к некоторому протоколу тестирования для задачи верификации, совпадает с теоретическим минимум байесовского риска, $\\overline{C}_{act}$, вычисленным в точке $T_{act}^{LLR}$.\n",
    "\n",
    "В рамках настоящего пункта необходимо обучить линейную модель калибровки. Для решения указанной задачи необходимо выполнить следующие действия:\n",
    "\n",
    "1. Подготовить калибровочный протокол для обучения модели калибровки.\n",
    "2. Задать рабочую точку, которая определит величину $T_{act}^{LLR}$.\n",
    "3. Обучить калибровочную модель путём минимизации стоимостной функции для логистической регрессии с использованием методов численной оптимизации первого порядка.\n",
    "4. Посчитать значения $\\overline{C}_{min}$ и $\\overline{C}_{act}$, а также $T_{min}^{LLR}$ и $T_{act}^{LLR}$ для выбранных протоколов тестирования до выполнения и после выполнения процедуры калибровки."
   ]
  },
  {
   "cell_type": "code",
   "execution_count": null,
   "id": "cecce255",
   "metadata": {},
   "outputs": [],
   "source": [
    "# Select hyperparameters\n",
    "\n",
    "# Calibration parameters\n",
    "P_tar               = 0.5                                # probability of target hypothesis\n",
    "calib_protocol_size = 40000                              # number of trials in calibration protocol\n",
    "\n",
    "# Train dataloader\n",
    "batch_size          = 1                                  # batch size to train\n",
    "pin_memory          = True                               # pin memory\n",
    "num_workers         = 1                                  # number of workers to train\n",
    "shuffle             = True                               # shuffling of training examples\n",
    "\n",
    "# Optimizer\n",
    "weight_decay        = 0                                  # weight decay value\n",
    "lr                  = 5                                  # learning rate value\n",
    "\n",
    "# Scheduler\n",
    "step_size           = 100                                # period of learning rate decay\n",
    "gamma               = 0.1                                # multiplicative factor of learning rate decay\n",
    "max_epoch           = 300                                # number of epoches"
   ]
  },
  {
   "cell_type": "code",
   "execution_count": null,
   "id": "513aa4e5",
   "metadata": {},
   "outputs": [],
   "source": [
    "# # Download meta data for calibration set datasets\n",
    "# with open('../data/lists/protocols2.txt', 'r') as f:\n",
    "#     lines = f.readlines()\n",
    "\n",
    "# download_protocol(lines, save_path='../data/voxceleb2_test')"
   ]
  },
  {
   "cell_type": "code",
   "execution_count": null,
   "id": "76d66dd9",
   "metadata": {},
   "outputs": [
    {
     "name": "stderr",
     "output_type": "stream",
     "text": [
      "/home/ext-shirokov-m@ad.speechpro.com/.local/lib/python3.8/site-packages/torch/utils/data/dataloader.py:474: UserWarning: This DataLoader will create 8 worker processes in total. Our suggested max number of worker in current system is 4, which is smaller than what this DataLoader is going to create. Please be aware that excessive worker creation might get DataLoader running slow or even freeze, lower the worker number to avoid potential slowness/freeze if necessary.\n",
      "  warnings.warn(_create_warning_msg(\n"
     ]
    }
   ],
   "source": [
    "setfiles = get_voxceleb_filelist(input_path='../data/voxceleb2_test/wav')\n",
    "setfiles.sort()\n",
    "\n",
    "# Define calibration data loader\n",
    "calib_dataset = test_dataset_loader(setfiles, test_path='../data/voxceleb2_test/wav', eval_frames=1000, num_eval=1)\n",
    "calib_loader  = torch.utils.data.DataLoader(calib_dataset, batch_size=1, shuffle=False, num_workers=8, drop_last=False, sampler=None)\n",
    "\n",
    "# Extract features for every image\n",
    "feats_calib = extract_features(model, calib_loader)"
   ]
  },
  {
   "cell_type": "code",
   "execution_count": null,
   "id": "d7ebac27",
   "metadata": {},
   "outputs": [],
   "source": [
    "# Create calibration protocol\n",
    "spk_ids_calib_protocol = []   # speaker IDs in calibration protocol\n",
    "for key in feats_calib.keys():\n",
    "    spk_ids_calib_protocol.append(key.split('/')[0])\n",
    "\n",
    "spk_ids_calib_protocol = list(set(spk_ids_calib_protocol))\n",
    "\n",
    "protocol_train = []           # calibration protocol\n",
    "\n",
    "# Generate target trials\n",
    "count = 0\n",
    "while count < int(P_tar*calib_protocol_size):\n",
    "    spk_id   = np.random.choice(spk_ids_calib_protocol, 1)[0]\n",
    "    spk_utts = list(filter(lambda x: spk_id in x, feats_adapt.keys()))\n",
    "    spk_utts = np.random.choice(spk_utts, 2)\n",
    "    \n",
    "    if spk_utts[0].split('/')[1] != spk_utts[1].split('/')[1]:\n",
    "        protocol_train.append(' '.join(['1', spk_utts[0], spk_utts[1]]))\n",
    "        \n",
    "        count = count + 1\n",
    "\n",
    "# Generate impostor trials\n",
    "count = 0\n",
    "while count < int((1 - P_tar)*calib_protocol_size):\n",
    "    spk_ids  = np.random.choice(spk_ids_calib_protocol, 2)\n",
    "    \n",
    "    if spk_ids[0] != spk_ids[1]:\n",
    "        spk1_utts = list(filter(lambda x: spk_ids[0] in x, feats_adapt.keys()))\n",
    "        spk1_utts = np.random.choice(spk1_utts, 1)[0]\n",
    "        spk2_utts = list(filter(lambda x: spk_ids[1] in x, feats_adapt.keys()))\n",
    "        spk2_utts = np.random.choice(spk2_utts, 1)[0]\n",
    "        \n",
    "        protocol_train.append(' '.join(['0', spk1_utts, spk2_utts]))\n",
    "        \n",
    "        count = count + 1"
   ]
  },
  {
   "cell_type": "code",
   "execution_count": null,
   "id": "9e4c91ac",
   "metadata": {},
   "outputs": [
    {
     "name": "stderr",
     "output_type": "stream",
     "text": [
      "Scoring progress:   1%|          | 442/40000 [00:00<00:08, 4415.00it/s]"
     ]
    },
    {
     "name": "stderr",
     "output_type": "stream",
     "text": [
      "Scoring progress: 100%|██████████| 40000/40000 [00:08<00:00, 4501.06it/s]\n"
     ]
    }
   ],
   "source": [
    "# Compute scores between enroll and test for calibration protocol\n",
    "all_scores_calib_train, \\\n",
    "all_labels_calib_train, \\\n",
    "all_trials_calib_train           = compute_scores_cosine(feats_calib, protocol_train)\n",
    "\n",
    "# Initialize train dataloader\n",
    "tar_calib_train, imp_calib_train = get_tar_imp_scores(all_scores_calib_train, all_labels_calib_train)\n",
    "calib_train_set                  = CalibrationDataset(target_scores=tar_calib_train, impostor_scores=imp_calib_train)\n",
    "calib_train_loader               = DataLoader(calib_train_set, batch_size=1, pin_memory=pin_memory, num_workers=num_workers, shuffle=True)"
   ]
  },
  {
   "cell_type": "code",
   "execution_count": null,
   "id": "f390ed4d",
   "metadata": {},
   "outputs": [
    {
     "name": "stdout",
     "output_type": "stream",
     "text": [
      "Initialised SGD optimizer.\n",
      "Initialised step LR scheduler.\n"
     ]
    },
    {
     "name": "stdout",
     "output_type": "stream",
     "text": [
      "Epoch 0, LR 5.000000 Loss 0.855591\n",
      "Epoch 1, LR 5.000000 Loss 0.817622\n",
      "Epoch 2, LR 5.000000 Loss 0.481227\n",
      "Epoch 3, LR 5.000000 Loss 0.356726\n",
      "Epoch 4, LR 5.000000 Loss 0.276078\n",
      "Epoch 5, LR 5.000000 Loss 0.226621\n",
      "Epoch 6, LR 5.000000 Loss 0.194528\n",
      "Epoch 7, LR 5.000000 Loss 0.173431\n",
      "Epoch 8, LR 5.000000 Loss 0.159421\n",
      "Epoch 9, LR 5.000000 Loss 0.150043\n",
      "Epoch 10, LR 5.000000 Loss 0.143736\n",
      "Epoch 11, LR 5.000000 Loss 0.139495\n",
      "Epoch 12, LR 5.000000 Loss 0.136662\n",
      "Epoch 13, LR 5.000000 Loss 0.134800\n",
      "Epoch 14, LR 5.000000 Loss 0.133612\n",
      "Epoch 15, LR 5.000000 Loss 0.132892\n",
      "Epoch 16, LR 5.000000 Loss 0.132497\n",
      "Epoch 17, LR 5.000000 Loss 0.132329\n",
      "Epoch 18, LR 5.000000 Loss 0.132313\n",
      "Epoch 19, LR 5.000000 Loss 0.132401\n",
      "Epoch 20, LR 5.000000 Loss 0.132554\n",
      "Epoch 21, LR 5.000000 Loss 0.132746\n",
      "Epoch 22, LR 5.000000 Loss 0.132959\n",
      "Epoch 23, LR 5.000000 Loss 0.133179\n",
      "Epoch 24, LR 5.000000 Loss 0.133397\n",
      "Epoch 25, LR 5.000000 Loss 0.133607\n",
      "Epoch 26, LR 5.000000 Loss 0.133803\n",
      "Epoch 27, LR 5.000000 Loss 0.133984\n",
      "Epoch 28, LR 5.000000 Loss 0.134148\n",
      "Epoch 29, LR 5.000000 Loss 0.134294\n",
      "Epoch 30, LR 5.000000 Loss 0.134422\n",
      "Epoch 31, LR 5.000000 Loss 0.134533\n",
      "Epoch 32, LR 5.000000 Loss 0.134626\n",
      "Epoch 33, LR 5.000000 Loss 0.134704\n",
      "Epoch 34, LR 5.000000 Loss 0.134766\n",
      "Epoch 35, LR 5.000000 Loss 0.134814\n",
      "Epoch 36, LR 5.000000 Loss 0.134850\n",
      "Epoch 37, LR 5.000000 Loss 0.134873\n",
      "Epoch 38, LR 5.000000 Loss 0.134886\n",
      "Epoch 39, LR 5.000000 Loss 0.134889\n",
      "Epoch 40, LR 5.000000 Loss 0.134883\n",
      "Epoch 41, LR 5.000000 Loss 0.134869\n",
      "Epoch 42, LR 5.000000 Loss 0.134848\n",
      "Epoch 43, LR 5.000000 Loss 0.134820\n",
      "Epoch 44, LR 5.000000 Loss 0.134788\n",
      "Epoch 45, LR 5.000000 Loss 0.134750\n",
      "Epoch 46, LR 5.000000 Loss 0.134709\n",
      "Epoch 47, LR 5.000000 Loss 0.134663\n",
      "Epoch 48, LR 5.000000 Loss 0.134615\n",
      "Epoch 49, LR 5.000000 Loss 0.134564\n",
      "Epoch 50, LR 5.000000 Loss 0.134512\n",
      "Epoch 51, LR 5.000000 Loss 0.134457\n",
      "Epoch 52, LR 5.000000 Loss 0.134401\n",
      "Epoch 53, LR 5.000000 Loss 0.134345\n",
      "Epoch 54, LR 5.000000 Loss 0.134287\n",
      "Epoch 55, LR 5.000000 Loss 0.134230\n",
      "Epoch 56, LR 5.000000 Loss 0.134172\n",
      "Epoch 57, LR 5.000000 Loss 0.134114\n",
      "Epoch 58, LR 5.000000 Loss 0.134056\n",
      "Epoch 59, LR 5.000000 Loss 0.133999\n",
      "Epoch 60, LR 5.000000 Loss 0.133942\n",
      "Epoch 61, LR 5.000000 Loss 0.133886\n",
      "Epoch 62, LR 5.000000 Loss 0.133831\n",
      "Epoch 63, LR 5.000000 Loss 0.133777\n",
      "Epoch 64, LR 5.000000 Loss 0.133723\n",
      "Epoch 65, LR 5.000000 Loss 0.133671\n",
      "Epoch 66, LR 5.000000 Loss 0.133620\n",
      "Epoch 67, LR 5.000000 Loss 0.133570\n",
      "Epoch 68, LR 5.000000 Loss 0.133521\n",
      "Epoch 69, LR 5.000000 Loss 0.133473\n",
      "Epoch 70, LR 5.000000 Loss 0.133427\n",
      "Epoch 71, LR 5.000000 Loss 0.133382\n",
      "Epoch 72, LR 5.000000 Loss 0.133338\n",
      "Epoch 73, LR 5.000000 Loss 0.133295\n",
      "Epoch 74, LR 5.000000 Loss 0.133254\n",
      "Epoch 75, LR 5.000000 Loss 0.133214\n",
      "Epoch 76, LR 5.000000 Loss 0.133175\n",
      "Epoch 77, LR 5.000000 Loss 0.133138\n",
      "Epoch 78, LR 5.000000 Loss 0.133102\n",
      "Epoch 79, LR 5.000000 Loss 0.133067\n",
      "Epoch 80, LR 5.000000 Loss 0.133033\n",
      "Epoch 81, LR 5.000000 Loss 0.133001\n",
      "Epoch 82, LR 5.000000 Loss 0.132969\n",
      "Epoch 83, LR 5.000000 Loss 0.132939\n",
      "Epoch 84, LR 5.000000 Loss 0.132910\n",
      "Epoch 85, LR 5.000000 Loss 0.132882\n",
      "Epoch 86, LR 5.000000 Loss 0.132855\n",
      "Epoch 87, LR 5.000000 Loss 0.132829\n",
      "Epoch 88, LR 5.000000 Loss 0.132804\n",
      "Epoch 89, LR 5.000000 Loss 0.132781\n",
      "Epoch 90, LR 5.000000 Loss 0.132758\n",
      "Epoch 91, LR 5.000000 Loss 0.132736\n",
      "Epoch 92, LR 5.000000 Loss 0.132715\n",
      "Epoch 93, LR 5.000000 Loss 0.132695\n",
      "Epoch 94, LR 5.000000 Loss 0.132676\n",
      "Epoch 95, LR 5.000000 Loss 0.132657\n",
      "Epoch 96, LR 5.000000 Loss 0.132640\n",
      "Epoch 97, LR 5.000000 Loss 0.132623\n",
      "Epoch 98, LR 5.000000 Loss 0.132607\n",
      "Epoch 99, LR 5.000000 Loss 0.132591\n",
      "Epoch 100, LR 0.500000 Loss 0.132577\n",
      "Epoch 101, LR 0.500000 Loss 0.132575\n",
      "Epoch 102, LR 0.500000 Loss 0.132574\n",
      "Epoch 103, LR 0.500000 Loss 0.132573\n",
      "Epoch 104, LR 0.500000 Loss 0.132571\n",
      "Epoch 105, LR 0.500000 Loss 0.132570\n",
      "Epoch 106, LR 0.500000 Loss 0.132569\n",
      "Epoch 107, LR 0.500000 Loss 0.132567\n",
      "Epoch 108, LR 0.500000 Loss 0.132566\n",
      "Epoch 109, LR 0.500000 Loss 0.132565\n",
      "Epoch 110, LR 0.500000 Loss 0.132564\n",
      "Epoch 111, LR 0.500000 Loss 0.132562\n",
      "Epoch 112, LR 0.500000 Loss 0.132561\n",
      "Epoch 113, LR 0.500000 Loss 0.132560\n",
      "Epoch 114, LR 0.500000 Loss 0.132559\n",
      "Epoch 115, LR 0.500000 Loss 0.132558\n",
      "Epoch 116, LR 0.500000 Loss 0.132557\n",
      "Epoch 117, LR 0.500000 Loss 0.132555\n",
      "Epoch 118, LR 0.500000 Loss 0.132554\n",
      "Epoch 119, LR 0.500000 Loss 0.132553\n",
      "Epoch 120, LR 0.500000 Loss 0.132552\n",
      "Epoch 121, LR 0.500000 Loss 0.132551\n",
      "Epoch 122, LR 0.500000 Loss 0.132550\n",
      "Epoch 123, LR 0.500000 Loss 0.132549\n",
      "Epoch 124, LR 0.500000 Loss 0.132548\n",
      "Epoch 125, LR 0.500000 Loss 0.132547\n",
      "Epoch 126, LR 0.500000 Loss 0.132546\n",
      "Epoch 127, LR 0.500000 Loss 0.132544\n",
      "Epoch 128, LR 0.500000 Loss 0.132543\n",
      "Epoch 129, LR 0.500000 Loss 0.132542\n",
      "Epoch 130, LR 0.500000 Loss 0.132541\n",
      "Epoch 131, LR 0.500000 Loss 0.132540\n",
      "Epoch 132, LR 0.500000 Loss 0.132539\n",
      "Epoch 133, LR 0.500000 Loss 0.132538\n",
      "Epoch 134, LR 0.500000 Loss 0.132537\n",
      "Epoch 135, LR 0.500000 Loss 0.132536\n",
      "Epoch 136, LR 0.500000 Loss 0.132535\n",
      "Epoch 137, LR 0.500000 Loss 0.132534\n",
      "Epoch 138, LR 0.500000 Loss 0.132533\n",
      "Epoch 139, LR 0.500000 Loss 0.132532\n",
      "Epoch 140, LR 0.500000 Loss 0.132531\n",
      "Epoch 141, LR 0.500000 Loss 0.132530\n",
      "Epoch 142, LR 0.500000 Loss 0.132529\n",
      "Epoch 143, LR 0.500000 Loss 0.132528\n",
      "Epoch 144, LR 0.500000 Loss 0.132527\n",
      "Epoch 145, LR 0.500000 Loss 0.132526\n",
      "Epoch 146, LR 0.500000 Loss 0.132525\n",
      "Epoch 147, LR 0.500000 Loss 0.132524\n",
      "Epoch 148, LR 0.500000 Loss 0.132523\n",
      "Epoch 149, LR 0.500000 Loss 0.132522\n",
      "Epoch 150, LR 0.500000 Loss 0.132521\n",
      "Epoch 151, LR 0.500000 Loss 0.132520\n",
      "Epoch 152, LR 0.500000 Loss 0.132519\n",
      "Epoch 153, LR 0.500000 Loss 0.132519\n",
      "Epoch 154, LR 0.500000 Loss 0.132518\n",
      "Epoch 155, LR 0.500000 Loss 0.132517\n",
      "Epoch 156, LR 0.500000 Loss 0.132516\n",
      "Epoch 157, LR 0.500000 Loss 0.132515\n",
      "Epoch 158, LR 0.500000 Loss 0.132514\n",
      "Epoch 159, LR 0.500000 Loss 0.132513\n",
      "Epoch 160, LR 0.500000 Loss 0.132512\n",
      "Epoch 161, LR 0.500000 Loss 0.132511\n",
      "Epoch 162, LR 0.500000 Loss 0.132510\n",
      "Epoch 163, LR 0.500000 Loss 0.132509\n",
      "Epoch 164, LR 0.500000 Loss 0.132508\n",
      "Epoch 165, LR 0.500000 Loss 0.132508\n",
      "Epoch 166, LR 0.500000 Loss 0.132507\n",
      "Epoch 167, LR 0.500000 Loss 0.132506\n",
      "Epoch 168, LR 0.500000 Loss 0.132505\n",
      "Epoch 169, LR 0.500000 Loss 0.132504\n",
      "Epoch 170, LR 0.500000 Loss 0.132503\n",
      "Epoch 171, LR 0.500000 Loss 0.132502\n",
      "Epoch 172, LR 0.500000 Loss 0.132501\n",
      "Epoch 173, LR 0.500000 Loss 0.132500\n",
      "Epoch 174, LR 0.500000 Loss 0.132500\n",
      "Epoch 175, LR 0.500000 Loss 0.132499\n",
      "Epoch 176, LR 0.500000 Loss 0.132498\n",
      "Epoch 177, LR 0.500000 Loss 0.132497\n",
      "Epoch 178, LR 0.500000 Loss 0.132496\n",
      "Epoch 179, LR 0.500000 Loss 0.132495\n",
      "Epoch 180, LR 0.500000 Loss 0.132495\n",
      "Epoch 181, LR 0.500000 Loss 0.132494\n",
      "Epoch 182, LR 0.500000 Loss 0.132493\n",
      "Epoch 183, LR 0.500000 Loss 0.132492\n",
      "Epoch 184, LR 0.500000 Loss 0.132491\n",
      "Epoch 185, LR 0.500000 Loss 0.132490\n",
      "Epoch 186, LR 0.500000 Loss 0.132490\n",
      "Epoch 187, LR 0.500000 Loss 0.132489\n",
      "Epoch 188, LR 0.500000 Loss 0.132488\n",
      "Epoch 189, LR 0.500000 Loss 0.132487\n",
      "Epoch 190, LR 0.500000 Loss 0.132486\n",
      "Epoch 191, LR 0.500000 Loss 0.132486\n",
      "Epoch 192, LR 0.500000 Loss 0.132485\n",
      "Epoch 193, LR 0.500000 Loss 0.132484\n",
      "Epoch 194, LR 0.500000 Loss 0.132483\n",
      "Epoch 195, LR 0.500000 Loss 0.132482\n",
      "Epoch 196, LR 0.500000 Loss 0.132482\n",
      "Epoch 197, LR 0.500000 Loss 0.132481\n",
      "Epoch 198, LR 0.500000 Loss 0.132480\n",
      "Epoch 199, LR 0.500000 Loss 0.132479\n",
      "Epoch 200, LR 0.050000 Loss 0.132478\n",
      "Epoch 201, LR 0.050000 Loss 0.132478\n",
      "Epoch 202, LR 0.050000 Loss 0.132478\n",
      "Epoch 203, LR 0.050000 Loss 0.132478\n",
      "Epoch 204, LR 0.050000 Loss 0.132478\n",
      "Epoch 205, LR 0.050000 Loss 0.132478\n",
      "Epoch 206, LR 0.050000 Loss 0.132478\n",
      "Epoch 207, LR 0.050000 Loss 0.132478\n",
      "Epoch 208, LR 0.050000 Loss 0.132478\n",
      "Epoch 209, LR 0.050000 Loss 0.132478\n",
      "Epoch 210, LR 0.050000 Loss 0.132478\n",
      "Epoch 211, LR 0.050000 Loss 0.132478\n",
      "Epoch 212, LR 0.050000 Loss 0.132478\n",
      "Epoch 213, LR 0.050000 Loss 0.132477\n",
      "Epoch 214, LR 0.050000 Loss 0.132477\n",
      "Epoch 215, LR 0.050000 Loss 0.132477\n",
      "Epoch 216, LR 0.050000 Loss 0.132477\n",
      "Epoch 217, LR 0.050000 Loss 0.132477\n",
      "Epoch 218, LR 0.050000 Loss 0.132477\n",
      "Epoch 219, LR 0.050000 Loss 0.132477\n",
      "Epoch 220, LR 0.050000 Loss 0.132477\n",
      "Epoch 221, LR 0.050000 Loss 0.132477\n",
      "Epoch 222, LR 0.050000 Loss 0.132477\n",
      "Epoch 223, LR 0.050000 Loss 0.132477\n",
      "Epoch 224, LR 0.050000 Loss 0.132477\n",
      "Epoch 225, LR 0.050000 Loss 0.132477\n",
      "Epoch 226, LR 0.050000 Loss 0.132476\n",
      "Epoch 227, LR 0.050000 Loss 0.132476\n",
      "Epoch 228, LR 0.050000 Loss 0.132476\n",
      "Epoch 229, LR 0.050000 Loss 0.132476\n",
      "Epoch 230, LR 0.050000 Loss 0.132476\n",
      "Epoch 231, LR 0.050000 Loss 0.132476\n",
      "Epoch 232, LR 0.050000 Loss 0.132476\n",
      "Epoch 233, LR 0.050000 Loss 0.132476\n",
      "Epoch 234, LR 0.050000 Loss 0.132476\n",
      "Epoch 235, LR 0.050000 Loss 0.132476\n",
      "Epoch 236, LR 0.050000 Loss 0.132476\n",
      "Epoch 237, LR 0.050000 Loss 0.132476\n",
      "Epoch 238, LR 0.050000 Loss 0.132476\n",
      "Epoch 239, LR 0.050000 Loss 0.132475\n",
      "Epoch 240, LR 0.050000 Loss 0.132475\n",
      "Epoch 241, LR 0.050000 Loss 0.132475\n",
      "Epoch 242, LR 0.050000 Loss 0.132475\n",
      "Epoch 243, LR 0.050000 Loss 0.132475\n",
      "Epoch 244, LR 0.050000 Loss 0.132475\n",
      "Epoch 245, LR 0.050000 Loss 0.132475\n",
      "Epoch 246, LR 0.050000 Loss 0.132475\n",
      "Epoch 247, LR 0.050000 Loss 0.132475\n",
      "Epoch 248, LR 0.050000 Loss 0.132475\n",
      "Epoch 249, LR 0.050000 Loss 0.132475\n",
      "Epoch 250, LR 0.050000 Loss 0.132475\n",
      "Epoch 251, LR 0.050000 Loss 0.132475\n",
      "Epoch 252, LR 0.050000 Loss 0.132475\n",
      "Epoch 253, LR 0.050000 Loss 0.132474\n",
      "Epoch 254, LR 0.050000 Loss 0.132474\n",
      "Epoch 255, LR 0.050000 Loss 0.132474\n",
      "Epoch 256, LR 0.050000 Loss 0.132474\n",
      "Epoch 257, LR 0.050000 Loss 0.132474\n",
      "Epoch 258, LR 0.050000 Loss 0.132474\n",
      "Epoch 259, LR 0.050000 Loss 0.132474\n",
      "Epoch 260, LR 0.050000 Loss 0.132474\n",
      "Epoch 261, LR 0.050000 Loss 0.132474\n",
      "Epoch 262, LR 0.050000 Loss 0.132474\n",
      "Epoch 263, LR 0.050000 Loss 0.132474\n",
      "Epoch 264, LR 0.050000 Loss 0.132474\n",
      "Epoch 265, LR 0.050000 Loss 0.132474\n",
      "Epoch 266, LR 0.050000 Loss 0.132473\n",
      "Epoch 267, LR 0.050000 Loss 0.132473\n",
      "Epoch 268, LR 0.050000 Loss 0.132473\n",
      "Epoch 269, LR 0.050000 Loss 0.132473\n",
      "Epoch 270, LR 0.050000 Loss 0.132473\n",
      "Epoch 271, LR 0.050000 Loss 0.132473\n",
      "Epoch 272, LR 0.050000 Loss 0.132473\n",
      "Epoch 273, LR 0.050000 Loss 0.132473\n",
      "Epoch 274, LR 0.050000 Loss 0.132473\n",
      "Epoch 275, LR 0.050000 Loss 0.132473\n",
      "Epoch 276, LR 0.050000 Loss 0.132473\n",
      "Epoch 277, LR 0.050000 Loss 0.132473\n",
      "Epoch 278, LR 0.050000 Loss 0.132473\n",
      "Epoch 279, LR 0.050000 Loss 0.132473\n",
      "Epoch 280, LR 0.050000 Loss 0.132472\n",
      "Epoch 281, LR 0.050000 Loss 0.132472\n",
      "Epoch 282, LR 0.050000 Loss 0.132472\n",
      "Epoch 283, LR 0.050000 Loss 0.132472\n",
      "Epoch 284, LR 0.050000 Loss 0.132472\n",
      "Epoch 285, LR 0.050000 Loss 0.132472\n",
      "Epoch 286, LR 0.050000 Loss 0.132472\n",
      "Epoch 287, LR 0.050000 Loss 0.132472\n",
      "Epoch 288, LR 0.050000 Loss 0.132472\n",
      "Epoch 289, LR 0.050000 Loss 0.132472\n",
      "Epoch 290, LR 0.050000 Loss 0.132472\n",
      "Epoch 291, LR 0.050000 Loss 0.132472\n",
      "Epoch 292, LR 0.050000 Loss 0.132472\n",
      "Epoch 293, LR 0.050000 Loss 0.132472\n",
      "Epoch 294, LR 0.050000 Loss 0.132471\n",
      "Epoch 295, LR 0.050000 Loss 0.132471\n",
      "Epoch 296, LR 0.050000 Loss 0.132471\n",
      "Epoch 297, LR 0.050000 Loss 0.132471\n",
      "Epoch 298, LR 0.050000 Loss 0.132471\n",
      "Epoch 299, LR 0.050000 Loss 0.132471\n"
     ]
    }
   ],
   "source": [
    "# Initialize calibration model\n",
    "calib_model = LinearCalibrationModel()\n",
    "criterion = CalibrationLoss(ptar=P_tar)\n",
    "\n",
    "# Initialize optimizer and scheduler\n",
    "optimizer = SGDOptimizer(calib_model.parameters(), lr=lr, weight_decay=weight_decay)\n",
    "scheduler = StepLRScheduler(optimizer, test_interval=step_size, lr_decay=gamma)\n",
    "\n",
    "# Train model\n",
    "train_calibration(calib_train_loader, calib_model, criterion, optimizer, scheduler, max_epoch, verbose=True)"
   ]
  },
  {
   "cell_type": "code",
   "execution_count": null,
   "id": "f3c17060",
   "metadata": {},
   "outputs": [
    {
     "data": {
      "image/png": "[encoded data removed]",
      "text/plain": [
       "<Figure size 640x480 with 1 Axes>"
      ]
     },
     "metadata": {},
     "output_type": "display_data"
    }
   ],
   "source": [
    "# Create target and impostor raw scores\n",
    "tar_test, imp_test  = get_tar_imp_scores(all_scores_out_of_domain, all_labels_out_of_domain)\n",
    "\n",
    "# Compute target and impostor calibrated scores\n",
    "calib_model.eval()\n",
    "\n",
    "tar_test_calib = calib_model(torch.tensor([tar_test]).transpose(0, 1))\n",
    "tar_test_calib = tar_test_calib.detach().numpy().squeeze()\n",
    "imp_test_calib = calib_model(torch.tensor([imp_test]).transpose(0, 1))\n",
    "imp_test_calib = imp_test_calib.detach().numpy().squeeze()\n",
    "\n",
    "# Plot histograms for target and impostor scores to calibrated scores\n",
    "min_scores = np.concatenate((tar_test_calib, imp_test_calib)).min()\n",
    "max_scores = np.concatenate((tar_test_calib, imp_test_calib)).max()\n",
    "\n",
    "hist(tar_test_calib, int(sqrt(len(tar_test_calib))), histtype='step', color='blue', range=(min_scores, max_scores))\n",
    "hist(imp_test_calib, int(sqrt(len(imp_test_calib))), histtype='step', color='cyan',   range=(min_scores, max_scores))\n",
    "xlabel('$s_c$'); ylabel('$\\widehat{W}(s_c|H_0)$, $\\widehat{W}(s_c|H_1)$'); title('VoxCeleb1-O (cleaned), histograms'); grid(); show()"
   ]
  },
  {
   "cell_type": "code",
   "execution_count": null,
   "id": "cacf79e8",
   "metadata": {},
   "outputs": [
    {
     "name": "stdout",
     "output_type": "stream",
     "text": [
      "Values of metrics before calibration\n",
      "EER: 4.051%, minDCF: 0.0802, actDCF: 0.5403, Ptar: 0.50\n"
     ]
    }
   ],
   "source": [
    "# Compute metrics before calibration\n",
    "EER, _               = get_eer(tar_test, imp_test)\n",
    "minDCF, _, actDCF, _ = get_dcf(tar_test, imp_test, P_target=P_tar)\n",
    "print('Values of metrics before calibration')\n",
    "print(\"EER: {0:.3f}%, minDCF: {1:.4f}, actDCF: {2:.4f}, Ptar: {3:.2f}\".format(EER, minDCF, actDCF, P_tar))"
   ]
  },
  {
   "cell_type": "code",
   "execution_count": null,
   "id": "6f63b23a",
   "metadata": {},
   "outputs": [
    {
     "name": "stdout",
     "output_type": "stream",
     "text": [
      "Values of metrics after calibration\n",
      "EER: 4.051%, minDCF: 0.0802, actDCF: 0.0809, Ptar: 0.50\n"
     ]
    }
   ],
   "source": [
    "# Compute metrics after calibration\n",
    "EER, _               = get_eer(tar_test_calib, imp_test_calib)\n",
    "minDCF, _, actDCF, _ = get_dcf(tar_test_calib, imp_test_calib, P_target=P_tar)\n",
    "print('Values of metrics after calibration')\n",
    "print(\"EER: {0:.3f}%, minDCF: {1:.4f}, actDCF: {2:.4f}, Ptar: {3:.2f}\".format(EER, minDCF, actDCF, P_tar))"
   ]
  },
  {
   "cell_type": "markdown",
   "id": "e74a7b8b",
   "metadata": {},
   "source": [
    "**6. Контрольные вопросы**\n",
    "\t\t\t\t\t\t\t\t\t\t\t\n",
    "1. Что такое доменная адаптация?\n",
    "2. Как выполнить процедуру адаптации на основе s-нормализации?\n",
    "3. Для какой цели решается задача калибровки?\n",
    "4. Что такое «хорошая» калибровка?\n",
    "5. Какие модели калибровки систем голосовой биометрии рассматриваются на практике?\n",
    "6. Как обучить калибровочную модель с использованием метода логистической регресии?"
   ]
  },
  {
   "cell_type": "markdown",
   "id": "1015eb2b",
   "metadata": {},
   "source": [
    "**7. Список литературы**\n",
    "\n",
    "1. Matějka P., Novotný O., Plchot O., Burget L., Sánchez M.D., Černocký J. Analysis of score normalization in multilingual speaker recognition // Proc. Interspeech 2017, 2017. P. 1567–1571 ([ссылка](https://www.isca-speech.org/archive/pdfs/interspeech_2017/matejka17_interspeech.pdf)).\n",
    "\n",
    "2. Gusev A., Volokhov V., Vinogradova A., Andzhukaev T., Shulipa A., Novoselov S., Pekhovsky T., Kozlov A. STC-Innovation speaker recognition systems for far-field speaker verification challenge 2020 // Proc. Interspeech 2020, 2020. P. 3466–3470 ([ссылка](https://www.isca-speech.org/archive/pdfs/interspeech_2020/gusev20_interspeech.pdf)).\n",
    "\n",
    "3. Brümmer N., Villiers E. The BOSARIS toolkit: theory, algorithms and code for surviving the new DCF // arXiv:1304.2865 [stat.AP] ([ссылка](https://arxiv.org/pdf/1304.2865.pdf)).\n",
    "\n",
    "4. Mandasari M.I., Saeidi R., McLaren M., Leeuwen D. Quality measure functions for calibration of speaker recognition systems in various duration conditions // IEEE Trans. Audio Speech and Language Processing, 2013. V. 21. №11. P. 2425–2438 ([ссылка](https://www.researchgate.net/publication/260695687_Quality_Measure_Functions_for_Calibration_of_Speaker_Recognition_Systems_in_Various_Duration_Conditions))."
   ]
  }
 ],
 "metadata": {
  "kernelspec": {
   "display_name": "Python 3 (ipykernel)",
   "language": "python",
   "name": "python3"
  },
  "language_info": {
   "codemirror_mode": {
    "name": "ipython",
    "version": 3
   },
   "file_extension": ".py",
   "mimetype": "text/x-python",
   "name": "python",
   "nbconvert_exporter": "python",
   "pygments_lexer": "ipython3",
   "version": "3.8.18"
  }
 },
 "nbformat": 4,
 "nbformat_minor": 5
}
